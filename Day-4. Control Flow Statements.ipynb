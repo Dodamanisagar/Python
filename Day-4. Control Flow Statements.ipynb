{
 "cells": [
  {
   "cell_type": "markdown",
   "id": "4d074436",
   "metadata": {},
   "source": [
    "# What is Control flow Statements?"
   ]
  },
  {
   "cell_type": "markdown",
   "id": "feb130c6",
   "metadata": {},
   "source": [
    "There are two words, the first is flow and the second is control.\n",
    "From a technical perspective, we can say that flow is nothing but many\n",
    "statements consisting of multiple operations which need to be executed. For\n",
    "example, adding 10 numbers and finding the mean of the number.\n",
    "\n",
    "We don't have any control over the statements yet. By control, I mean the\n",
    "decision power. To relate this with real life, one can imagine that in their day-\n",
    "to-day life, they make decisions whether to do this or that, choose this or that,\n",
    "etc.\n",
    "\n",
    "Similarly, in the coding world also, we make decisions and according to the\n",
    "situation, we follow required statements and skip irrelevant ones."
   ]
  },
  {
   "cell_type": "markdown",
   "id": "66c766b4",
   "metadata": {},
   "source": [
    "# Example :-"
   ]
  },
  {
   "cell_type": "raw",
   "id": "0bcc6ac7",
   "metadata": {},
   "source": [
    "Special rules to attend the exam in time:-\n",
    "1) No marks deduction if arrived at the examination hall on time.\n",
    "2) If 10 mins late, then 10 marks will be deducted.\n",
    "3) If 30 mins late, then 30 marks will be deducted.\n",
    "4) Zero marks if later than 30 mins."
   ]
  },
  {
   "cell_type": "markdown",
   "id": "69139e2a",
   "metadata": {},
   "source": [
    "# Types of Control Flow Statements in Python:-"
   ]
  },
  {
   "cell_type": "raw",
   "id": "ab34d51c",
   "metadata": {},
   "source": [
    "1) Conditional Statements:-\n",
    "1. if\n",
    "2. if— else\n",
    "3. if-elif-else\n",
    "4. nested if-else\n",
    "\n",
    "2) Transfer Statements:-\n",
    "1. break\n",
    "2. continue\n",
    "3. pass\n",
    "\n",
    "3) Iterative Statements/Loops:-\n",
    "l. for\n",
    "2. while"
   ]
  },
  {
   "cell_type": "markdown",
   "id": "84612de2",
   "metadata": {},
   "source": [
    "# 1) Conditional Statements:-"
   ]
  },
  {
   "cell_type": "markdown",
   "id": "9e12d4e4",
   "metadata": {},
   "source": [
    "# 1. if Statement:-"
   ]
  },
  {
   "cell_type": "raw",
   "id": "a2815514",
   "metadata": {},
   "source": [
    "-- The if statement is the most simple decision-making statement. \n",
    "-- It is used to decide whether a certain statement or block of statements will be executed or not.\n",
    "\n",
    "Syntax:\n",
    "if condition:\n",
    "    statementl\n",
    "statement2"
   ]
  },
  {
   "cell_type": "markdown",
   "id": "4e44367c",
   "metadata": {},
   "source": [
    "Write a program to calculate the percentage of a students in the subjects Maths,Science, English,Social and Hindi"
   ]
  },
  {
   "cell_type": "code",
   "execution_count": 1,
   "id": "0a177ade",
   "metadata": {},
   "outputs": [
    {
     "name": "stdout",
     "output_type": "stream",
     "text": [
      "Enter the name of the StudentRam\n",
      "Enter the marks scored in Maths70\n",
      "Enter the marks scored in Science80\n",
      "Enter the marks scored in English87\n",
      "Enter the marks scored in Hindi90\n",
      "Enter the marks scored in Social50\n",
      "Percentage scored by Ram is 75.4\n"
     ]
    }
   ],
   "source": [
    "name=input(\"Enter the name of the Student\")\n",
    "Maths_marks=int(input(\"Enter the marks scored in Maths\"))\n",
    "Science_marks=int(input(\"Enter the marks scored in Science\"))\n",
    "English_marks=int(input(\"Enter the marks scored in English\"))\n",
    "Hindi_marks=int(input(\"Enter the marks scored in Hindi\"))\n",
    "Social_marks=int(input(\"Enter the marks scored in Social\"))\n",
    "total=(Maths_marks+Science_marks+English_marks+Hindi_marks+Social_marks)\n",
    "percentage=(total/500)*100\n",
    "print(\"Percentage scored by\",name,\"is\",percentage)\n"
   ]
  },
  {
   "cell_type": "markdown",
   "id": "b7c4c061",
   "metadata": {},
   "source": [
    "if percentage is above 90 - assign A grade\n",
    "if percentage is above 75 and less than 90 - assign B grade\n",
    "if percentage is above 65 and less than 75 - assign c grade"
   ]
  },
  {
   "cell_type": "code",
   "execution_count": 2,
   "id": "221a5513",
   "metadata": {},
   "outputs": [
    {
     "name": "stdout",
     "output_type": "stream",
     "text": [
      "B grade\n"
     ]
    }
   ],
   "source": [
    "if percentage>=90:\n",
    "    print(\"A grade\")\n",
    "if percentage>=75 and percentage<90:\n",
    "    print(\"B grade\")\n",
    "if percentage>=65 and percentage<75:\n",
    "    print(\"c grade\")\n",
    "\n"
   ]
  },
  {
   "cell_type": "markdown",
   "id": "8e279171",
   "metadata": {},
   "source": [
    "# 2. if-else statement:-"
   ]
  },
  {
   "cell_type": "raw",
   "id": "af0456f3",
   "metadata": {},
   "source": [
    "Syntax:-\n",
    "if condition:\n",
    "    statementl\n",
    "else:\n",
    "    statement2"
   ]
  },
  {
   "cell_type": "markdown",
   "id": "4352e026",
   "metadata": {},
   "source": [
    "Write a program to display Hello if number entered by user is a multiple of 5 else print Bye"
   ]
  },
  {
   "cell_type": "code",
   "execution_count": 4,
   "id": "e415dbe8",
   "metadata": {},
   "outputs": [
    {
     "name": "stdout",
     "output_type": "stream",
     "text": [
      "Enter the number40\n",
      "Hello\n"
     ]
    }
   ],
   "source": [
    "user_input=int(input(\"Enter the number\"))\n",
    "divisible=(user_input%5)\n",
    "if divisible==0:\n",
    "    print(\"Hello\")\n",
    "else:\n",
    "    print(\"Bye\")"
   ]
  },
  {
   "cell_type": "markdown",
   "id": "edad8436",
   "metadata": {},
   "source": [
    "Write a program to check whether number entered by user is even or odd"
   ]
  },
  {
   "cell_type": "code",
   "execution_count": 5,
   "id": "a614a4b7",
   "metadata": {},
   "outputs": [
    {
     "name": "stdout",
     "output_type": "stream",
     "text": [
      "Enter the Number45\n",
      "45 is Odd\n"
     ]
    }
   ],
   "source": [
    "number=int(input(\"Enter the Number\",))\n",
    "if number%2==0:\n",
    "    print(number,\"is Even\")\n",
    "else:\n",
    "    print(number,\"is Odd\")"
   ]
  },
  {
   "cell_type": "markdown",
   "id": "dd047942",
   "metadata": {},
   "source": [
    "Write a program to check whether number entered by user is negative or positive"
   ]
  },
  {
   "cell_type": "code",
   "execution_count": 6,
   "id": "ff770978",
   "metadata": {},
   "outputs": [
    {
     "name": "stdout",
     "output_type": "stream",
     "text": [
      "Enter the Number-299\n",
      "-299 is Negative\n"
     ]
    }
   ],
   "source": [
    "num=int(input(\"Enter the Number\"))\n",
    "if num>0:\n",
    "    print(num,\"is Positive\")\n",
    "else:\n",
    "    print(num,\"is Negative\")"
   ]
  },
  {
   "cell_type": "markdown",
   "id": "df83fc50",
   "metadata": {},
   "source": [
    "# 3. if-elif-else statement:-"
   ]
  },
  {
   "cell_type": "markdown",
   "id": "26c47456",
   "metadata": {},
   "source": [
    "Syntax:-\n",
    "if condition1:\n",
    "    statementl\n",
    "elif condition2:\n",
    "    statement2\n",
    "else:\n",
    "    statement3"
   ]
  },
  {
   "cell_type": "raw",
   "id": "f10fd9c7",
   "metadata": {},
   "source": [
    "Write a program to accept the below city and print its Monument\n",
    "Delhi      - Red Fort,\n",
    "Agra       - Taj Mahal,\n",
    "Jaipur     - Jalmahal ,\n",
    "Orisa      - Konark Temple,\n",
    "Hydrabad   - Charminar,\n",
    "other      - Records not found"
   ]
  },
  {
   "cell_type": "code",
   "execution_count": 5,
   "id": "d551419a",
   "metadata": {},
   "outputs": [
    {
     "name": "stdout",
     "output_type": "stream",
     "text": [
      "Enter the City Name Pune\n",
      "Record not found for Pune city\n"
     ]
    }
   ],
   "source": [
    "city=input(\"Enter the City Name \")\n",
    "if city==\"Delhi\":\n",
    "    print(\"the Monument in delhi is Red Fort\")\n",
    "elif city==\"Agra\":\n",
    "    print(\"the Monument in Agra is Taj Mahal\")\n",
    "elif city==\"Jaipur\":\n",
    "    print(\"the Monument in Jaipur is Jalmahal\")\n",
    "elif city==\"Orisa\":\n",
    "    print(\"the Monument in Orisa is Konark Temple\")\n",
    "elif city==\"Hydrabad\":\n",
    "    print(\"the Monument in Hydrabad is Charminar\")\n",
    "else:\n",
    "    print(\"Record not found for\",city,\"city\")"
   ]
  },
  {
   "cell_type": "code",
   "execution_count": null,
   "id": "af1289b1",
   "metadata": {},
   "outputs": [],
   "source": []
  }
 ],
 "metadata": {
  "kernelspec": {
   "display_name": "Python 3 (ipykernel)",
   "language": "python",
   "name": "python3"
  },
  "language_info": {
   "codemirror_mode": {
    "name": "ipython",
    "version": 3
   },
   "file_extension": ".py",
   "mimetype": "text/x-python",
   "name": "python",
   "nbconvert_exporter": "python",
   "pygments_lexer": "ipython3",
   "version": "3.11.4"
  }
 },
 "nbformat": 4,
 "nbformat_minor": 5
}
