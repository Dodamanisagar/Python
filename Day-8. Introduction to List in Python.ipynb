{
 "cells": [
  {
   "cell_type": "markdown",
   "id": "349bae75",
   "metadata": {},
   "source": [
    "# List:-"
   ]
  },
  {
   "cell_type": "markdown",
   "id": "fb07844d",
   "metadata": {},
   "source": [
    "- Lists are used to store multiple items in a single variable.\n",
    "- Lists are one of 4 built-in data types in Python used to store collections of data. \n",
    "- The other 3 are Tuple, Set, and Dictionary, all with different qualities and usage.\n",
    "- Lists are the simplest containers that are an integral part of the Python language. \n",
    "- Lists need not be homogeneous always, which makes it the most powerful tool in Python. \n",
    "- A single list may contain DataTypes like Integers, Strings, as well as Objects. Lists are mutable, and hence, they can be altered even after their creation.\n",
    "\n",
    "\n",
    "- List items are ordered, changeable, and allow duplicate values.\n",
    "- Ordered:-\n",
    "  - When we say that lists are ordered, it means that the items have a defined order, and that order will not change.\n",
    "  - If you add new items to a list, the new items will be placed at the end of the list.\n",
    "- Changeable:- \n",
    "  - The list is changeable, meaning that we can change, add, and remove items in a list after it has been created.\n",
    "- Allow Duplicates:-\n",
    "  - Since lists are indexed, lists can have items with the same value."
   ]
  },
  {
   "cell_type": "markdown",
   "id": "fa27dbac",
   "metadata": {},
   "source": [
    "- Definition: A list in Python is an ordered collection (also known as a sequence) of items. Its Heterogenous in nature.\n",
    "- Mutable: Lists are mutable, which means their elements can be changed (added, modified, or deleted) after they are created.\n",
    "- Creation: A list is created by placing items (elements) inside square brackets [], separated by commas.\n",
    "- Indexing and Slicing: Lists support indexing and slicing to access and modify their elements. Python list indices start at 0.\n"
   ]
  },
  {
   "cell_type": "markdown",
   "id": "189f70bf",
   "metadata": {},
   "source": [
    "# List Indexing:-"
   ]
  },
  {
   "attachments": {
    "download%20%283%29.jfif": {
     "image/jpeg": "[encoded data removed]"
    }
   },
   "cell_type": "markdown",
   "id": "9204a888",
   "metadata": {},
   "source": [
    "![download%20%283%29.jfif](attachment:download%20%283%29.jfif)"
   ]
  },
  {
   "cell_type": "markdown",
   "id": "06d45795",
   "metadata": {},
   "source": [
    "# Creating a List:-"
   ]
  },
  {
   "cell_type": "code",
   "execution_count": 5,
   "id": "ecb49024",
   "metadata": {},
   "outputs": [
    {
     "name": "stdout",
     "output_type": "stream",
     "text": [
      "['apple', 'banana', 'cherry']\n",
      "<class 'list'>\n"
     ]
    }
   ],
   "source": [
    "myList=[\"apple\",\"banana\",\"cherry\"]\n",
    "print(myList)\n",
    "print(type(myList))"
   ]
  },
  {
   "cell_type": "markdown",
   "id": "5ff70702",
   "metadata": {},
   "source": [
    "# Allow Duplicates:-"
   ]
  },
  {
   "cell_type": "code",
   "execution_count": 6,
   "id": "0658480f",
   "metadata": {},
   "outputs": [
    {
     "name": "stdout",
     "output_type": "stream",
     "text": [
      "['apple', 'banana', 'cherry', 'apple', 'banana', 'cherry']\n",
      "<class 'list'>\n"
     ]
    }
   ],
   "source": [
    "myList=[\"apple\",\"banana\",\"cherry\",\"apple\",\"banana\",\"cherry\"]\n",
    "print(myList)\n",
    "print(type(myList))"
   ]
  },
  {
   "cell_type": "markdown",
   "id": "ce690e00",
   "metadata": {},
   "source": [
    "# List items-Data Types:-"
   ]
  },
  {
   "cell_type": "code",
   "execution_count": 9,
   "id": "7dca5733",
   "metadata": {},
   "outputs": [
    {
     "name": "stdout",
     "output_type": "stream",
     "text": [
      "['apple', 'banana', 'cherry']\n",
      "[1, 5, 7, 9, 11]\n",
      "[True, False, True, False]\n",
      "[1.2, 3.9, 5.0]\n"
     ]
    }
   ],
   "source": [
    "list1=[\"apple\",\"banana\",\"cherry\"]\n",
    "list2=[1,5,7,9,11]\n",
    "list3=[True,False,True,False]\n",
    "list4=[1.2,3.9,5.0]\n",
    "print(list1)\n",
    "print(list2)\n",
    "print(list3)\n",
    "print(list4)"
   ]
  },
  {
   "cell_type": "code",
   "execution_count": 10,
   "id": "2d5fb16d",
   "metadata": {},
   "outputs": [
    {
     "name": "stdout",
     "output_type": "stream",
     "text": [
      "['apple', 'banana', 'cherry', 1, 5, 7, 9, 11, True, False, True, False, 1.2, 3.9, 5.0]\n"
     ]
    }
   ],
   "source": [
    "a=[\"apple\",\"banana\",\"cherry\",1,5,7,9,11,True,False,True,False,1.2,3.9,5.0]\n",
    "print(a)"
   ]
  },
  {
   "cell_type": "markdown",
   "id": "a7bd4b95",
   "metadata": {},
   "source": [
    "# List Length:-"
   ]
  },
  {
   "cell_type": "code",
   "execution_count": 11,
   "id": "e69be9f3",
   "metadata": {},
   "outputs": [
    {
     "name": "stdout",
     "output_type": "stream",
     "text": [
      "15\n"
     ]
    }
   ],
   "source": [
    "a=[\"apple\",\"banana\",\"cherry\",1,5,7,9,11,True,False,True,False,1.2,3.9,5.0]\n",
    "print(len(a))"
   ]
  },
  {
   "cell_type": "markdown",
   "id": "b1ec3d7d",
   "metadata": {},
   "source": [
    "# Access Items:-"
   ]
  },
  {
   "cell_type": "code",
   "execution_count": 13,
   "id": "452865fc",
   "metadata": {},
   "outputs": [
    {
     "name": "stdout",
     "output_type": "stream",
     "text": [
      "4\n"
     ]
    }
   ],
   "source": [
    "thisList=[12,13,1,4,34,67,89,90]\n",
    "print(thisList[3])"
   ]
  },
  {
   "cell_type": "code",
   "execution_count": 14,
   "id": "1a063e4a",
   "metadata": {},
   "outputs": [
    {
     "name": "stdout",
     "output_type": "stream",
     "text": [
      "67\n"
     ]
    }
   ],
   "source": [
    "print(thisList[5])"
   ]
  },
  {
   "cell_type": "code",
   "execution_count": 15,
   "id": "6b298be2",
   "metadata": {},
   "outputs": [
    {
     "ename": "IndexError",
     "evalue": "list index out of range",
     "output_type": "error",
     "traceback": [
      "\u001b[1;31m---------------------------------------------------------------------------\u001b[0m",
      "\u001b[1;31mIndexError\u001b[0m                                Traceback (most recent call last)",
      "Cell \u001b[1;32mIn[15], line 2\u001b[0m\n\u001b[0;32m      1\u001b[0m thisList\u001b[38;5;241m=\u001b[39m[\u001b[38;5;241m12\u001b[39m,\u001b[38;5;241m13\u001b[39m,\u001b[38;5;241m1\u001b[39m,\u001b[38;5;241m4\u001b[39m,\u001b[38;5;241m34\u001b[39m,\u001b[38;5;241m67\u001b[39m,\u001b[38;5;241m89\u001b[39m,\u001b[38;5;241m90\u001b[39m]\n\u001b[1;32m----> 2\u001b[0m \u001b[38;5;28mprint\u001b[39m(thisList[\u001b[38;5;241m19\u001b[39m])\n",
      "\u001b[1;31mIndexError\u001b[0m: list index out of range"
     ]
    }
   ],
   "source": [
    "thisList=[12,13,1,4,34,67,89,90]\n",
    "print(thisList[19])"
   ]
  },
  {
   "cell_type": "code",
   "execution_count": 17,
   "id": "af180325",
   "metadata": {},
   "outputs": [
    {
     "name": "stdout",
     "output_type": "stream",
     "text": [
      "4\n"
     ]
    }
   ],
   "source": [
    "thisList=[12,13,1,4,34,67,89,90]\n",
    "print(thisList[-5])"
   ]
  },
  {
   "cell_type": "markdown",
   "id": "fe4b7dc4",
   "metadata": {},
   "source": [
    "# Slicing Of List:-"
   ]
  },
  {
   "cell_type": "code",
   "execution_count": 18,
   "id": "a531ff91",
   "metadata": {},
   "outputs": [
    {
     "name": "stdout",
     "output_type": "stream",
     "text": [
      "[12, 13, 1, 4]\n"
     ]
    }
   ],
   "source": [
    "thisList=[12,13,1,4,34,67,89,90]\n",
    "print(thisList[0:4])# From zero Index get 4 values"
   ]
  },
  {
   "cell_type": "code",
   "execution_count": 19,
   "id": "175a88ac",
   "metadata": {},
   "outputs": [
    {
     "name": "stdout",
     "output_type": "stream",
     "text": [
      "[12, 13, 1, 4, 34, 67, 89, 90]\n"
     ]
    }
   ],
   "source": [
    "print(thisList[0:])#From zero get all values"
   ]
  },
  {
   "cell_type": "code",
   "execution_count": 20,
   "id": "3314283d",
   "metadata": {},
   "outputs": [
    {
     "name": "stdout",
     "output_type": "stream",
     "text": [
      "[67, 89, 90]\n"
     ]
    }
   ],
   "source": [
    "print(thisList[5:])#From 5 get all values"
   ]
  },
  {
   "cell_type": "code",
   "execution_count": 21,
   "id": "bea757b4",
   "metadata": {},
   "outputs": [
    {
     "name": "stdout",
     "output_type": "stream",
     "text": [
      "[12, 1, 34, 89]\n"
     ]
    }
   ],
   "source": [
    "print(thisList[0:8:2])#From zero get each 2nd values upto 8 values"
   ]
  },
  {
   "cell_type": "code",
   "execution_count": 22,
   "id": "a29b0126",
   "metadata": {},
   "outputs": [
    {
     "name": "stdout",
     "output_type": "stream",
     "text": [
      "[4, 67, 90]\n"
     ]
    }
   ],
   "source": [
    "print(thisList[3:8:2])"
   ]
  },
  {
   "cell_type": "code",
   "execution_count": 23,
   "id": "a1a8ce34",
   "metadata": {},
   "outputs": [
    {
     "name": "stdout",
     "output_type": "stream",
     "text": [
      "[1, 4, 34, 67, 89, 90]\n"
     ]
    }
   ],
   "source": [
    "print(thisList[2::])"
   ]
  },
  {
   "cell_type": "code",
   "execution_count": 24,
   "id": "60227802",
   "metadata": {},
   "outputs": [
    {
     "name": "stdout",
     "output_type": "stream",
     "text": [
      "[12, 1, 34, 89]\n"
     ]
    }
   ],
   "source": [
    "print(thisList[0::2])"
   ]
  },
  {
   "cell_type": "code",
   "execution_count": 25,
   "id": "d20ab7af",
   "metadata": {},
   "outputs": [
    {
     "name": "stdout",
     "output_type": "stream",
     "text": [
      "[12, 1, 34, 89]\n"
     ]
    }
   ],
   "source": [
    "print(thisList[::2])"
   ]
  },
  {
   "cell_type": "code",
   "execution_count": 26,
   "id": "5c3099e0",
   "metadata": {},
   "outputs": [
    {
     "name": "stdout",
     "output_type": "stream",
     "text": [
      "[12, 13, 1, 4, 34, 67, 89, 90]\n"
     ]
    }
   ],
   "source": [
    "print(thisList[:8:])"
   ]
  },
  {
   "cell_type": "markdown",
   "id": "aa79bc21",
   "metadata": {},
   "source": [
    "# Change List Items-"
   ]
  },
  {
   "cell_type": "code",
   "execution_count": 27,
   "id": "f0caed4a",
   "metadata": {},
   "outputs": [
    {
     "name": "stdout",
     "output_type": "stream",
     "text": [
      "['apple', 'Mango', 'cherry']\n"
     ]
    }
   ],
   "source": [
    "myList=[\"apple\",\"banana\",\"cherry\"]\n",
    "myList[1]=\"Mango\"\n",
    "print(myList)\n"
   ]
  },
  {
   "cell_type": "code",
   "execution_count": 28,
   "id": "b41a7e8e",
   "metadata": {
    "scrolled": true
   },
   "outputs": [
    {
     "name": "stdout",
     "output_type": "stream",
     "text": [
      "[12, 13, 1, 4, 34, 'Banana', 89, 90]\n"
     ]
    }
   ],
   "source": [
    "thisList=[12,13,1,4,34,67,89,90]\n",
    "thisList[5]=\"Banana\"\n",
    "print(thisList)"
   ]
  },
  {
   "cell_type": "markdown",
   "id": "5a83a880",
   "metadata": {},
   "source": [
    "# Change a Range of Item Values:-"
   ]
  },
  {
   "cell_type": "code",
   "execution_count": 29,
   "id": "b8168092",
   "metadata": {},
   "outputs": [
    {
     "name": "stdout",
     "output_type": "stream",
     "text": [
      "[12, 'A', 'B', 4, 34, 67, 89, 90]\n"
     ]
    }
   ],
   "source": [
    "b=[12,13,1,4,34,67,89,90]\n",
    "b[1:3]=[\"A\",\"B\"]# replace values inbetween index 1(Including) and 3(Excluding)\n",
    "print(b)"
   ]
  },
  {
   "cell_type": "markdown",
   "id": "870a8807",
   "metadata": {},
   "source": [
    "# Add List Items:-"
   ]
  },
  {
   "cell_type": "markdown",
   "id": "39e76554",
   "metadata": {},
   "source": [
    "#    - Append Items:-"
   ]
  },
  {
   "cell_type": "code",
   "execution_count": 32,
   "id": "99d17b70",
   "metadata": {},
   "outputs": [
    {
     "name": "stdout",
     "output_type": "stream",
     "text": [
      "['apple', 'banana', 'cherry', 'Orange']\n"
     ]
    }
   ],
   "source": [
    "myList=[\"apple\",\"banana\",\"cherry\"]\n",
    "myList.append(\"Orange\")\n",
    "print(myList)"
   ]
  },
  {
   "cell_type": "code",
   "execution_count": 33,
   "id": "1801f49f",
   "metadata": {},
   "outputs": [
    {
     "name": "stdout",
     "output_type": "stream",
     "text": [
      "[12, 13, 1, 4, 34, 67, 89, 90, -40]\n"
     ]
    }
   ],
   "source": [
    "b=[12,13,1,4,34,67,89,90]\n",
    "b.append(-40)\n",
    "print(b)"
   ]
  },
  {
   "cell_type": "markdown",
   "id": "3e61efed",
   "metadata": {},
   "source": [
    "#    - Remove List Items:-"
   ]
  },
  {
   "cell_type": "code",
   "execution_count": 36,
   "id": "b804980f",
   "metadata": {},
   "outputs": [
    {
     "name": "stdout",
     "output_type": "stream",
     "text": [
      "['apple', 'cherry']\n"
     ]
    }
   ],
   "source": [
    "myList=[\"apple\",\"banana\",\"cherry\"]\n",
    "myList.remove(\"banana\")#Take Values as input\n",
    "print(myList)"
   ]
  },
  {
   "cell_type": "markdown",
   "id": "1ba7aa37",
   "metadata": {},
   "source": [
    "# - Join List:-"
   ]
  },
  {
   "cell_type": "code",
   "execution_count": 38,
   "id": "289a82b0",
   "metadata": {},
   "outputs": [
    {
     "name": "stdout",
     "output_type": "stream",
     "text": [
      "[1, 2, 3, 4, 'A', 'B', 'C', 'D']\n"
     ]
    }
   ],
   "source": [
    "list3=[1,2,3,4]\n",
    "list4=[\"A\",\"B\",\"C\",\"D\"]\n",
    "listJoin=list3+list4\n",
    "print(listJoin)"
   ]
  },
  {
   "cell_type": "markdown",
   "id": "f07c549d",
   "metadata": {},
   "source": [
    "# Check if List Contains an Elements:-"
   ]
  },
  {
   "cell_type": "code",
   "execution_count": 39,
   "id": "5e1ccb3f",
   "metadata": {},
   "outputs": [
    {
     "data": {
      "text/plain": [
       "True"
      ]
     },
     "execution_count": 39,
     "metadata": {},
     "output_type": "execute_result"
    }
   ],
   "source": [
    "list3=[1,2,3,4]\n",
    "1 in list3"
   ]
  },
  {
   "cell_type": "code",
   "execution_count": 40,
   "id": "7f9f0371",
   "metadata": {},
   "outputs": [
    {
     "data": {
      "text/plain": [
       "False"
      ]
     },
     "execution_count": 40,
     "metadata": {},
     "output_type": "execute_result"
    }
   ],
   "source": [
    "8 in list3"
   ]
  },
  {
   "cell_type": "markdown",
   "id": "12ffbed1",
   "metadata": {},
   "source": [
    "# Reversing a List:-"
   ]
  },
  {
   "cell_type": "code",
   "execution_count": 45,
   "id": "5e616796",
   "metadata": {},
   "outputs": [
    {
     "name": "stdout",
     "output_type": "stream",
     "text": [
      "['D', 'C', 'B', 'A', 4, 3, 2, 1]\n"
     ]
    }
   ],
   "source": [
    "listValues=[1, 2, 3, 4, 'A', 'B', 'C', 'D']\n",
    "listValues.reverse()\n",
    "print(listValues)"
   ]
  },
  {
   "cell_type": "raw",
   "id": "95e969ad",
   "metadata": {},
   "source": [
    "Python Program to Interchange forst and last element in a List"
   ]
  },
  {
   "cell_type": "code",
   "execution_count": 47,
   "id": "c1d3677e",
   "metadata": {},
   "outputs": [
    {
     "name": "stdout",
     "output_type": "stream",
     "text": [
      "[1, 2, 3, 4, 'A', 'B', 'C', 'D']\n",
      "8\n",
      "new List =  ['D', 2, 3, 4, 'A', 'B', 'C', 1]\n"
     ]
    }
   ],
   "source": [
    "listValues=[1, 2, 3, 4, 'A', 'B', 'C', 'D']\n",
    "print(listValues)\n",
    "print(len(listValues))\n",
    "b=listValues[0]\n",
    "listValues[0]=listValues[len(listValues)-1]\n",
    "listValues[len(listValues)-1]=b\n",
    "print(\"new List = \",listValues)"
   ]
  },
  {
   "cell_type": "raw",
   "id": "e3d058a7",
   "metadata": {},
   "source": [
    "Find The Sum Of below List\n",
    "l=[12,23,34,45,56,-12,-12,-13,14]"
   ]
  },
  {
   "cell_type": "code",
   "execution_count": 51,
   "id": "bfcb875b",
   "metadata": {},
   "outputs": [
    {
     "name": "stdout",
     "output_type": "stream",
     "text": [
      "sum of list is=  147\n"
     ]
    }
   ],
   "source": [
    "l=[12,23,34,45,56,-12,-12,-13,14]\n",
    "a=0\n",
    "for i in range(len(l)):\n",
    "    a=a+l[i]\n",
    "    i=i+1\n",
    "print(\"sum of list is= \",a)"
   ]
  },
  {
   "cell_type": "markdown",
   "id": "b487e751",
   "metadata": {},
   "source": [
    "Find The max value Of below List\n",
    "l=[12,23,34,45,56,-12,-12,-13,14]"
   ]
  },
  {
   "cell_type": "code",
   "execution_count": 60,
   "id": "18d915ac",
   "metadata": {},
   "outputs": [
    {
     "name": "stdout",
     "output_type": "stream",
     "text": [
      "The maximum value in the list is: 56\n"
     ]
    }
   ],
   "source": [
    "from builtins import max\n",
    "\n",
    "l = [12, 23, 34, 45, 56, -12, -12, -13, 14]\n",
    "\n",
    "max_value = max(l)\n",
    "\n",
    "print(\"The maximum value in the list is:\", max_value)\n",
    "\n"
   ]
  },
  {
   "cell_type": "markdown",
   "id": "28ea6c79",
   "metadata": {},
   "source": [
    "# Multiply All numbers in List"
   ]
  },
  {
   "cell_type": "code",
   "execution_count": 62,
   "id": "3661c91c",
   "metadata": {},
   "outputs": [
    {
     "name": "stdout",
     "output_type": "stream",
     "text": [
      "sum of list is=  23647680\n"
     ]
    }
   ],
   "source": [
    "l=[12,23,34,45,56]\n",
    "a=1\n",
    "for i in range(len(l)):\n",
    "    a=a*l[i]\n",
    "    i=i+1\n",
    "print(\"sum of list is= \",a)"
   ]
  },
  {
   "cell_type": "code",
   "execution_count": null,
   "id": "dec8278f",
   "metadata": {},
   "outputs": [],
   "source": []
  }
 ],
 "metadata": {
  "kernelspec": {
   "display_name": "Python 3 (ipykernel)",
   "language": "python",
   "name": "python3"
  },
  "language_info": {
   "codemirror_mode": {
    "name": "ipython",
    "version": 3
   },
   "file_extension": ".py",
   "mimetype": "text/x-python",
   "name": "python",
   "nbconvert_exporter": "python",
   "pygments_lexer": "ipython3",
   "version": "3.11.4"
  }
 },
 "nbformat": 4,
 "nbformat_minor": 5
}
