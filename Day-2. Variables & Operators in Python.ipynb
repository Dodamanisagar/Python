{
 "cells": [
  {
   "cell_type": "markdown",
   "id": "3aef4c01",
   "metadata": {},
   "source": [
    "# Variables & Operators in Python\n"
   ]
  },
  {
   "cell_type": "markdown",
   "id": "5d657db4",
   "metadata": {},
   "source": [
    "# Variables :-"
   ]
  },
  {
   "cell_type": "raw",
   "id": "ce3018e1",
   "metadata": {},
   "source": [
    "-- Python Variable is containers that store values. \n",
    "-- Python is not \"statically typed\".\n",
    "-- We do not need to declare variables before using them or declare their type. \n",
    "-- A variable is created the moment we first assign a value to it. \n",
    "-- A Python variable is a name given to a memory location. \n",
    "-- It is the basic unit of storage in a program."
   ]
  },
  {
   "cell_type": "markdown",
   "id": "c42ab204",
   "metadata": {},
   "source": [
    "# Variable Names:-"
   ]
  },
  {
   "cell_type": "raw",
   "id": "8d48967f",
   "metadata": {},
   "source": [
    "A variable can have a short name (like x and y) or a more\n",
    "descriptive name (age, carname, total—volume).\n",
    "\n",
    "* Rules for Python variables:-\n",
    "1. A variable name must start with a letter or the underscore character\n",
    "2. A variable name cannot start with a number\n",
    "3. A variable name can only contain alpha-numeric characters and underscores (A-z, 0-9, and _ )\n",
    "4. Variable names are case-sensitive (age, Age and AGE are three different variables)\n",
    "5. A variable name cannot be any of the Python keywords."
   ]
  },
  {
   "cell_type": "markdown",
   "id": "7de0ddb5",
   "metadata": {},
   "source": [
    "# Creating a Variable :-"
   ]
  },
  {
   "cell_type": "raw",
   "id": "3dc9a41a",
   "metadata": {},
   "source": [
    "-- Python has no command for declaring a variable.\n",
    "-- A variable is created the moment you first assign a value to it.\n",
    "Example:-"
   ]
  },
  {
   "cell_type": "code",
   "execution_count": 8,
   "id": "bcb1a8b7",
   "metadata": {},
   "outputs": [
    {
     "name": "stdout",
     "output_type": "stream",
     "text": [
      "2\n",
      "5\n"
     ]
    }
   ],
   "source": [
    "A=2\n",
    "a=5\n",
    "print(A)\n",
    "print(a)"
   ]
  },
  {
   "cell_type": "code",
   "execution_count": 9,
   "id": "6f645b2a",
   "metadata": {},
   "outputs": [
    {
     "name": "stdout",
     "output_type": "stream",
     "text": [
      "2 5\n"
     ]
    }
   ],
   "source": [
    "A=2\n",
    "a=5\n",
    "print(A,a)\n"
   ]
  },
  {
   "cell_type": "code",
   "execution_count": 10,
   "id": "0c3adcc4",
   "metadata": {},
   "outputs": [
    {
     "name": "stdout",
     "output_type": "stream",
     "text": [
      "Sagar Dodamani\n"
     ]
    }
   ],
   "source": [
    "first_Name=\"Sagar\"\n",
    "last_Name=\"Dodamani\"\n",
    "print(first_Name,last_Name)"
   ]
  },
  {
   "cell_type": "code",
   "execution_count": 11,
   "id": "729957f8",
   "metadata": {},
   "outputs": [
    {
     "name": "stdout",
     "output_type": "stream",
     "text": [
      "5\n"
     ]
    }
   ],
   "source": [
    "_number=5\n",
    "print(_number)"
   ]
  },
  {
   "cell_type": "markdown",
   "id": "ea0a937d",
   "metadata": {},
   "source": [
    "# Many Values to Multiple variables"
   ]
  },
  {
   "cell_type": "code",
   "execution_count": 12,
   "id": "5c2e169e",
   "metadata": {},
   "outputs": [
    {
     "name": "stdout",
     "output_type": "stream",
     "text": [
      "Excel SQL Python\n"
     ]
    }
   ],
   "source": [
    "A,B,C=\"Excel\",\"SQL\",\"Python\"\n",
    "print(A,B,C)"
   ]
  },
  {
   "cell_type": "code",
   "execution_count": 14,
   "id": "4ef274b0",
   "metadata": {},
   "outputs": [
    {
     "name": "stdout",
     "output_type": "stream",
     "text": [
      "Excel\n",
      "SQL\n",
      "Python\n"
     ]
    }
   ],
   "source": [
    "A,B,C=\"Excel\",\"SQL\",\"Python\"\n",
    "print(A)\n",
    "print(B)\n",
    "print(C)"
   ]
  },
  {
   "cell_type": "code",
   "execution_count": 15,
   "id": "984b8765",
   "metadata": {},
   "outputs": [
    {
     "name": "stdout",
     "output_type": "stream",
     "text": [
      "Python\n",
      "Python\n",
      "Python\n"
     ]
    }
   ],
   "source": [
    "A=B=C=\"Python\"\n",
    "print(A)\n",
    "print(B)\n",
    "print(C)"
   ]
  },
  {
   "cell_type": "markdown",
   "id": "b9014056",
   "metadata": {},
   "source": [
    "# Python Output Variables"
   ]
  },
  {
   "cell_type": "code",
   "execution_count": 16,
   "id": "8b473e21",
   "metadata": {},
   "outputs": [
    {
     "name": "stdout",
     "output_type": "stream",
     "text": [
      "python is amazing\n",
      "python\n",
      "is\n",
      "amazing\n"
     ]
    }
   ],
   "source": [
    "x=\"python\"\n",
    "y=\"is\"\n",
    "z=\"amazing\"\n",
    "print(x,y,z)\n",
    "\n",
    "print(x)\n",
    "print(y)\n",
    "print(z)"
   ]
  },
  {
   "cell_type": "markdown",
   "id": "186b1e97",
   "metadata": {},
   "source": [
    "# Data Types In Python"
   ]
  },
  {
   "cell_type": "raw",
   "id": "6a9bce0f",
   "metadata": {},
   "source": [
    "-- Variables can store data Of different types.\n",
    "-- Python has the following data types built-in by default, in these categories\n",
    "1)Text Type     :    str\n",
    "2)Numeric Type  :    int,float,complex\n",
    "3)Sequence Type :    list,tuple,range\n",
    "4)Mapping Type  :    dict\n",
    "5)Set Type      :    set,frozenset\n",
    "6)Boolean Type  :    bool\n",
    "7)Binary type   :    bytes,bytearray,memoryview"
   ]
  },
  {
   "cell_type": "code",
   "execution_count": 17,
   "id": "65ebbe76",
   "metadata": {},
   "outputs": [
    {
     "name": "stdout",
     "output_type": "stream",
     "text": [
      "2\n",
      "<class 'int'>\n"
     ]
    }
   ],
   "source": [
    "x=2\n",
    "print(x)\n",
    "print(type(x))"
   ]
  },
  {
   "cell_type": "code",
   "execution_count": 18,
   "id": "093ef339",
   "metadata": {},
   "outputs": [
    {
     "name": "stdout",
     "output_type": "stream",
     "text": [
      "4.5\n",
      "<class 'float'>\n"
     ]
    }
   ],
   "source": [
    "y=4.5\n",
    "print(y)\n",
    "print(type(y))"
   ]
  },
  {
   "cell_type": "code",
   "execution_count": 19,
   "id": "786e621c",
   "metadata": {},
   "outputs": [
    {
     "name": "stdout",
     "output_type": "stream",
     "text": [
      "(2+5j)\n",
      "<class 'complex'>\n"
     ]
    }
   ],
   "source": [
    "z=2+5j\n",
    "print(z)\n",
    "print(type(z))"
   ]
  },
  {
   "cell_type": "code",
   "execution_count": 20,
   "id": "28c2c8b9",
   "metadata": {},
   "outputs": [
    {
     "name": "stdout",
     "output_type": "stream",
     "text": [
      "this is a day-2 of class\n",
      "<class 'str'>\n"
     ]
    }
   ],
   "source": [
    "day_2=\"this is a day-2 of class\"\n",
    "print(day_2)\n",
    "print(type(day_2))"
   ]
  },
  {
   "cell_type": "code",
   "execution_count": 21,
   "id": "d7821d02",
   "metadata": {},
   "outputs": [
    {
     "name": "stdout",
     "output_type": "stream",
     "text": [
      "[1, 2, 3, 4, 5, 6, 7, 8, 9, 10]\n",
      "<class 'list'>\n"
     ]
    }
   ],
   "source": [
    "b=[1,2,3,4,5,6,7,8,9,10]\n",
    "print(b)\n",
    "print(type(b))"
   ]
  },
  {
   "cell_type": "code",
   "execution_count": 22,
   "id": "7ad3146a",
   "metadata": {},
   "outputs": [
    {
     "name": "stdout",
     "output_type": "stream",
     "text": [
      "(1, 2, 3, 4, 5, 6, 7, 8, 9, 10)\n",
      "<class 'tuple'>\n"
     ]
    }
   ],
   "source": [
    "c=(1,2,3,4,5,6,7,8,9,10)\n",
    "print(c)\n",
    "print(type(c))"
   ]
  },
  {
   "cell_type": "raw",
   "id": "efcbbd6f",
   "metadata": {},
   "source": [
    "Command to check how many variable we created:-"
   ]
  },
  {
   "cell_type": "code",
   "execution_count": 23,
   "id": "b461c696",
   "metadata": {},
   "outputs": [
    {
     "name": "stdout",
     "output_type": "stream",
     "text": [
      "Variable     Type       Data/Info\n",
      "---------------------------------\n",
      "A            str        Python\n",
      "B            str        Python\n",
      "C            str        Python\n",
      "a            int        5\n",
      "b            list       n=10\n",
      "c            tuple      n=10\n",
      "day_2        str        this is a day-2 of class\n",
      "first_Name   str        Sagar\n",
      "last_Name    str        Dodamani\n",
      "x            int        2\n",
      "y            float      4.5\n",
      "z            complex    (2+5j)\n"
     ]
    }
   ],
   "source": [
    "%whos"
   ]
  },
  {
   "cell_type": "markdown",
   "id": "1dbe9fa6",
   "metadata": {},
   "source": [
    "# Operators in Python"
   ]
  },
  {
   "cell_type": "markdown",
   "id": "abf2100c",
   "metadata": {},
   "source": [
    "# Operators:-"
   ]
  },
  {
   "cell_type": "raw",
   "id": "17fd0e41",
   "metadata": {},
   "source": [
    "-- In Python programming, Operators in general are used to perform operations on values and variables. \n",
    "-- These are standard symbols used for the purpose of logical and arithmetic operations. \n",
    "-- In this article, we will look into different types of Python operators.\n",
    "-- OPERATORS: These are the special symbols Eg + ,*,/, - etc.\n",
    "-- OPERAND: It is the value on which the operator is applied."
   ]
  },
  {
   "cell_type": "markdown",
   "id": "70c8dbc3",
   "metadata": {},
   "source": [
    "# Types of Operators in Python:-"
   ]
  },
  {
   "cell_type": "raw",
   "id": "57d2ec11",
   "metadata": {},
   "source": [
    "1. Arithmetic Operators\n",
    "2. Comparison Operators\n",
    "3. Logical Operators\n",
    "4. Bitwise Operators\n",
    "5. Assignment Operators\n",
    "6. Identity Operators and Membership Operators"
   ]
  },
  {
   "cell_type": "markdown",
   "id": "fd0c90b6",
   "metadata": {},
   "source": [
    "# Addition"
   ]
  },
  {
   "cell_type": "code",
   "execution_count": 24,
   "id": "7456f798",
   "metadata": {},
   "outputs": [
    {
     "name": "stdout",
     "output_type": "stream",
     "text": [
      "8\n"
     ]
    }
   ],
   "source": [
    "a=5\n",
    "b=3\n",
    "print(a+b)"
   ]
  },
  {
   "cell_type": "code",
   "execution_count": 25,
   "id": "ba4f4e25",
   "metadata": {},
   "outputs": [
    {
     "name": "stdout",
     "output_type": "stream",
     "text": [
      "7.5\n"
     ]
    }
   ],
   "source": [
    "a=5\n",
    "b=2.5\n",
    "print(a+b)\n"
   ]
  },
  {
   "cell_type": "code",
   "execution_count": 26,
   "id": "2ac7bea9",
   "metadata": {},
   "outputs": [
    {
     "name": "stdout",
     "output_type": "stream",
     "text": [
      "(9+2j)\n"
     ]
    }
   ],
   "source": [
    "a=5+2j\n",
    "b=4\n",
    "print(a+b)"
   ]
  },
  {
   "cell_type": "code",
   "execution_count": 28,
   "id": "5e150750",
   "metadata": {},
   "outputs": [
    {
     "name": "stdout",
     "output_type": "stream",
     "text": [
      "hello students\n"
     ]
    }
   ],
   "source": [
    "a=\"hello\"\n",
    "b=\"students\"\n",
    "print(a+\" \"+b)"
   ]
  },
  {
   "cell_type": "markdown",
   "id": "83331428",
   "metadata": {},
   "source": [
    "# Subtraction"
   ]
  },
  {
   "cell_type": "code",
   "execution_count": 29,
   "id": "7a8486c4",
   "metadata": {},
   "outputs": [
    {
     "name": "stdout",
     "output_type": "stream",
     "text": [
      "9\n"
     ]
    }
   ],
   "source": [
    "a=15\n",
    "b=6\n",
    "print(a-b)"
   ]
  },
  {
   "cell_type": "code",
   "execution_count": 30,
   "id": "1adb5929",
   "metadata": {},
   "outputs": [
    {
     "name": "stdout",
     "output_type": "stream",
     "text": [
      "-2.0\n"
     ]
    }
   ],
   "source": [
    "a=5.8\n",
    "b=7.8\n",
    "print(a-b)"
   ]
  },
  {
   "cell_type": "code",
   "execution_count": 31,
   "id": "1d7900ee",
   "metadata": {},
   "outputs": [
    {
     "name": "stdout",
     "output_type": "stream",
     "text": [
      "(2+6j)\n"
     ]
    }
   ],
   "source": [
    "a=5+6j\n",
    "b=3\n",
    "print(a-b)"
   ]
  },
  {
   "cell_type": "markdown",
   "id": "c85bd480",
   "metadata": {},
   "source": [
    "# Multiplication"
   ]
  },
  {
   "cell_type": "code",
   "execution_count": 32,
   "id": "ec8152e9",
   "metadata": {},
   "outputs": [
    {
     "name": "stdout",
     "output_type": "stream",
     "text": [
      "40\n"
     ]
    }
   ],
   "source": [
    "a=20\n",
    "b=2\n",
    "print(a*b)"
   ]
  },
  {
   "cell_type": "code",
   "execution_count": 33,
   "id": "93ff7062",
   "metadata": {},
   "outputs": [
    {
     "name": "stdout",
     "output_type": "stream",
     "text": [
      "27.072\n"
     ]
    }
   ],
   "source": [
    "a=5.76\n",
    "b=4.7\n",
    "print(a*b)"
   ]
  },
  {
   "cell_type": "markdown",
   "id": "e0ea9b2e",
   "metadata": {},
   "source": [
    "# Division"
   ]
  },
  {
   "cell_type": "code",
   "execution_count": 34,
   "id": "99847809",
   "metadata": {},
   "outputs": [
    {
     "name": "stdout",
     "output_type": "stream",
     "text": [
      "2.0\n"
     ]
    }
   ],
   "source": [
    "a=10\n",
    "b=5\n",
    "print(a/b)"
   ]
  },
  {
   "cell_type": "markdown",
   "id": "2cf22f33",
   "metadata": {},
   "source": [
    "# Modulous"
   ]
  },
  {
   "cell_type": "code",
   "execution_count": 35,
   "id": "c3734003",
   "metadata": {},
   "outputs": [
    {
     "name": "stdout",
     "output_type": "stream",
     "text": [
      "1\n"
     ]
    }
   ],
   "source": [
    "a=19\n",
    "b=3\n",
    "print(a%b) #remainder"
   ]
  },
  {
   "cell_type": "code",
   "execution_count": 36,
   "id": "07e63d86",
   "metadata": {},
   "outputs": [
    {
     "name": "stdout",
     "output_type": "stream",
     "text": [
      "0\n"
     ]
    }
   ],
   "source": [
    "a=12\n",
    "b=4\n",
    "print(a%b)"
   ]
  },
  {
   "cell_type": "markdown",
   "id": "43c21d77",
   "metadata": {},
   "source": [
    "# Exponent"
   ]
  },
  {
   "cell_type": "code",
   "execution_count": 37,
   "id": "3ea07e64",
   "metadata": {},
   "outputs": [
    {
     "name": "stdout",
     "output_type": "stream",
     "text": [
      "625\n"
     ]
    }
   ],
   "source": [
    "a=25\n",
    "print(a**2)"
   ]
  },
  {
   "cell_type": "code",
   "execution_count": 38,
   "id": "5af88058",
   "metadata": {},
   "outputs": [
    {
     "name": "stdout",
     "output_type": "stream",
     "text": [
      "8452948639951394297043103410267508903996776214671141531189596760179605261526806547641754150390625\n"
     ]
    }
   ],
   "source": [
    "a=25455\n",
    "print(a**22)"
   ]
  },
  {
   "cell_type": "code",
   "execution_count": 41,
   "id": "d5c6fd15",
   "metadata": {},
   "outputs": [
    {
     "name": "stdout",
     "output_type": "stream",
     "text": [
      "1.279893786911143e+55\n"
     ]
    }
   ],
   "source": [
    "a=((272*546)+(34/54)+(56**3))**10\n",
    "print(a)"
   ]
  },
  {
   "cell_type": "code",
   "execution_count": 42,
   "id": "29a4f026",
   "metadata": {},
   "outputs": [
    {
     "name": "stdout",
     "output_type": "stream",
     "text": [
      "False\n"
     ]
    }
   ],
   "source": [
    "a=True\n",
    "b=False\n",
    "print(a and b)"
   ]
  },
  {
   "cell_type": "code",
   "execution_count": 43,
   "id": "0b34b8fe",
   "metadata": {},
   "outputs": [
    {
     "name": "stdout",
     "output_type": "stream",
     "text": [
      "True\n"
     ]
    }
   ],
   "source": [
    "a=True\n",
    "b=False\n",
    "print(a or b)"
   ]
  },
  {
   "cell_type": "code",
   "execution_count": 45,
   "id": "f2b6954b",
   "metadata": {},
   "outputs": [
    {
     "name": "stdout",
     "output_type": "stream",
     "text": [
      "True\n"
     ]
    }
   ],
   "source": [
    "a=True\n",
    "b=False\n",
    "print(not(b))"
   ]
  },
  {
   "cell_type": "code",
   "execution_count": 46,
   "id": "65800f3b",
   "metadata": {},
   "outputs": [
    {
     "name": "stdout",
     "output_type": "stream",
     "text": [
      "length of rectangle is 12cm\n",
      "length of breadth is 6cm\n",
      "area of rectangle is  72\n"
     ]
    }
   ],
   "source": [
    "# Find the area of rectangle with length 12cm and breadth 6cm\n",
    "a=12\n",
    "print(\"length of rectangle is 12cm\")\n",
    "b=6\n",
    "print(\"length of breadth is 6cm\")\n",
    "area=a*b\n",
    "print(\"area of rectangle is \",area)\n"
   ]
  },
  {
   "cell_type": "code",
   "execution_count": null,
   "id": "1a1fd8d8",
   "metadata": {},
   "outputs": [],
   "source": []
  }
 ],
 "metadata": {
  "kernelspec": {
   "display_name": "Python 3 (ipykernel)",
   "language": "python",
   "name": "python3"
  },
  "language_info": {
   "codemirror_mode": {
    "name": "ipython",
    "version": 3
   },
   "file_extension": ".py",
   "mimetype": "text/x-python",
   "name": "python",
   "nbconvert_exporter": "python",
   "pygments_lexer": "ipython3",
   "version": "3.11.4"
  }
 },
 "nbformat": 4,
 "nbformat_minor": 5
}
