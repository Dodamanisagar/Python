{
 "cells": [
  {
   "cell_type": "markdown",
   "id": "ffd459c2",
   "metadata": {},
   "source": [
    "# Basic Of Python"
   ]
  },
  {
   "cell_type": "code",
   "execution_count": 1,
   "id": "e2c52b5c",
   "metadata": {},
   "outputs": [
    {
     "name": "stdout",
     "output_type": "stream",
     "text": [
      "hello world\n"
     ]
    }
   ],
   "source": [
    "print(\"hello world\")"
   ]
  },
  {
   "cell_type": "code",
   "execution_count": 2,
   "id": "5cb6668b",
   "metadata": {},
   "outputs": [
    {
     "name": "stdout",
     "output_type": "stream",
     "text": [
      "7\n"
     ]
    }
   ],
   "source": [
    "print(2+5)"
   ]
  },
  {
   "cell_type": "markdown",
   "id": "fafa60c5",
   "metadata": {},
   "source": [
    "# Comments in Python\n"
   ]
  },
  {
   "cell_type": "markdown",
   "id": "f2a49fe0",
   "metadata": {},
   "source": [
    "single line comment"
   ]
  },
  {
   "cell_type": "code",
   "execution_count": 3,
   "id": "4d059839",
   "metadata": {},
   "outputs": [
    {
     "name": "stdout",
     "output_type": "stream",
     "text": [
      "single line comment\n"
     ]
    }
   ],
   "source": [
    "#this is single line comment\n",
    "print(\"single line comment\")"
   ]
  },
  {
   "cell_type": "markdown",
   "id": "399bacf9",
   "metadata": {},
   "source": [
    "Multi-Line Comments\n"
   ]
  },
  {
   "cell_type": "code",
   "execution_count": 5,
   "id": "355c6f8c",
   "metadata": {},
   "outputs": [
    {
     "name": "stdout",
     "output_type": "stream",
     "text": [
      "this is multi-line comment type 1\n"
     ]
    }
   ],
   "source": [
    "#this is multi line comment-1\n",
    "#this is multi line comment-2\n",
    "#this is multi line comment-3\n",
    "print(\"this is multi-line comment type 1\")"
   ]
  },
  {
   "cell_type": "code",
   "execution_count": 6,
   "id": "f6f13af1",
   "metadata": {},
   "outputs": [
    {
     "name": "stdout",
     "output_type": "stream",
     "text": [
      "this is multi line comment type 2\n"
     ]
    }
   ],
   "source": [
    "\"\"\"This is multi line comment type 2 \"\"\"\n",
    "print(\"this is multi line comment type 2\")"
   ]
  },
  {
   "cell_type": "code",
   "execution_count": null,
   "id": "9e6d7a6c",
   "metadata": {},
   "outputs": [],
   "source": []
  }
 ],
 "metadata": {
  "kernelspec": {
   "display_name": "Python 3 (ipykernel)",
   "language": "python",
   "name": "python3"
  },
  "language_info": {
   "codemirror_mode": {
    "name": "ipython",
    "version": 3
   },
   "file_extension": ".py",
   "mimetype": "text/x-python",
   "name": "python",
   "nbconvert_exporter": "python",
   "pygments_lexer": "ipython3",
   "version": "3.11.4"
  }
 },
 "nbformat": 4,
 "nbformat_minor": 5
}
