{
 "cells": [
  {
   "cell_type": "markdown",
   "id": "5603b6f0",
   "metadata": {},
   "source": [
    "# Tuples:-"
   ]
  },
  {
   "cell_type": "markdown",
   "id": "77340258",
   "metadata": {},
   "source": [
    "- Definition: A tuple in Python is similar to a list. It's an ordered collection of items. Heterogenous in nature\n",
    "- Immutable: The major difference from lists is that tuples are immutable, which means their elements cannot be changed (no addition, modification, or deletion) after they are created.\n",
    "- Creation: A tuple is created by placing items (elements) inside parentheses () , separated by commas.\n",
    "- Indexing and Slicing: Lists support indexing and slicing to access and modify their elements. Python list indices start at 0."
   ]
  },
  {
   "cell_type": "markdown",
   "id": "f0432e77",
   "metadata": {},
   "source": [
    "# Indexng In Tuples-"
   ]
  },
  {
   "attachments": {
    "download%20%284%29.png": {
     "image/png": "[encoded data removed]"
    }
   },
   "cell_type": "markdown",
   "id": "d39ca576",
   "metadata": {},
   "source": [
    "![download%20%284%29.png](attachment:download%20%284%29.png)"
   ]
  },
  {
   "cell_type": "markdown",
   "id": "5dc23a3a",
   "metadata": {},
   "source": [
    "# Creating Tules:-"
   ]
  },
  {
   "cell_type": "code",
   "execution_count": 1,
   "id": "9676d830",
   "metadata": {},
   "outputs": [
    {
     "name": "stdout",
     "output_type": "stream",
     "text": [
      "(1, 2, 3)\n",
      "<class 'tuple'>\n"
     ]
    }
   ],
   "source": [
    "myTuples=(1,2,3)\n",
    "print(myTuples)\n",
    "print(type(myTuples))"
   ]
  },
  {
   "cell_type": "markdown",
   "id": "a940fd81",
   "metadata": {},
   "source": [
    "# Tuple with mixed Data Type:-"
   ]
  },
  {
   "cell_type": "code",
   "execution_count": 3,
   "id": "590c02f0",
   "metadata": {},
   "outputs": [
    {
     "name": "stdout",
     "output_type": "stream",
     "text": [
      "(1, 'Tuples', 3.5, True)\n",
      "<class 'tuple'>\n"
     ]
    }
   ],
   "source": [
    "myTuples=(1,\"Tuples\",3.5,True)\n",
    "print(myTuples)\n",
    "print(type(myTuples))"
   ]
  },
  {
   "cell_type": "markdown",
   "id": "0c503711",
   "metadata": {},
   "source": [
    "# Empty tuple:-"
   ]
  },
  {
   "cell_type": "code",
   "execution_count": 4,
   "id": "14be5c50",
   "metadata": {},
   "outputs": [
    {
     "name": "stdout",
     "output_type": "stream",
     "text": [
      "()\n",
      "<class 'tuple'>\n"
     ]
    }
   ],
   "source": [
    "myTuples=()\n",
    "print(myTuples)\n",
    "print(type(myTuples))"
   ]
  },
  {
   "cell_type": "markdown",
   "id": "43af6dd6",
   "metadata": {},
   "source": [
    "# Nested Tuple:-"
   ]
  },
  {
   "cell_type": "code",
   "execution_count": 5,
   "id": "cf69f8c8",
   "metadata": {},
   "outputs": [
    {
     "name": "stdout",
     "output_type": "stream",
     "text": [
      "(1, 'Tuples', 3.5, True, [1, 2, 3], (4, 5, 6))\n",
      "<class 'tuple'>\n"
     ]
    }
   ],
   "source": [
    "myTuples=(1,\"Tuples\",3.5,True,[1,2,3],(4,5,6))\n",
    "print(myTuples)\n",
    "print(type(myTuples))"
   ]
  },
  {
   "cell_type": "markdown",
   "id": "308f0cdd",
   "metadata": {},
   "source": [
    "# Create a python Tuple with One element"
   ]
  },
  {
   "cell_type": "code",
   "execution_count": 6,
   "id": "12c9eb67",
   "metadata": {},
   "outputs": [
    {
     "name": "stdout",
     "output_type": "stream",
     "text": [
      "Hello\n",
      "<class 'str'>\n"
     ]
    }
   ],
   "source": [
    "var1=(\"Hello\")\n",
    "print(var1)\n",
    "print(type(var1))#output will be str if we dont use comma(,)"
   ]
  },
  {
   "cell_type": "code",
   "execution_count": 7,
   "id": "f7fd1cb8",
   "metadata": {},
   "outputs": [
    {
     "name": "stdout",
     "output_type": "stream",
     "text": [
      "('Hello',)\n",
      "<class 'tuple'>\n"
     ]
    }
   ],
   "source": [
    "var1=(\"Hello\",)\n",
    "print(var1)\n",
    "print(type(var1))"
   ]
  },
  {
   "cell_type": "markdown",
   "id": "a008cba7",
   "metadata": {},
   "source": [
    "# The tuple() Constructor:-"
   ]
  },
  {
   "cell_type": "code",
   "execution_count": 4,
   "id": "5476af4e",
   "metadata": {},
   "outputs": [
    {
     "name": "stdout",
     "output_type": "stream",
     "text": [
      "('1', '2', '3', '4')\n",
      "<class 'tuple'>\n"
     ]
    }
   ],
   "source": [
    "TupleName=tuple((\"1\",\"2\",\"3\",\"4\"))# must pass values inside ()\n",
    "print(TupleName)\n",
    "print(type(TupleName))"
   ]
  },
  {
   "cell_type": "markdown",
   "id": "594c0cd4",
   "metadata": {},
   "source": [
    "# Indexing:-"
   ]
  },
  {
   "cell_type": "code",
   "execution_count": 6,
   "id": "803b9f1b",
   "metadata": {},
   "outputs": [
    {
     "name": "stdout",
     "output_type": "stream",
     "text": [
      "5\n"
     ]
    }
   ],
   "source": [
    "a=(23,4,5,667,78,8,9)\n",
    "print(a[2])"
   ]
  },
  {
   "cell_type": "code",
   "execution_count": 7,
   "id": "b4b02e38",
   "metadata": {},
   "outputs": [
    {
     "name": "stdout",
     "output_type": "stream",
     "text": [
      "(5+6j)\n"
     ]
    }
   ],
   "source": [
    "b = (\"data\", \"python\" , 25, 2.36, 5+6j)\n",
    "print(b[4])"
   ]
  },
  {
   "cell_type": "code",
   "execution_count": 9,
   "id": "9a2e8e67",
   "metadata": {},
   "outputs": [
    {
     "name": "stdout",
     "output_type": "stream",
     "text": [
      "10\n"
     ]
    }
   ],
   "source": [
    "c=(12, 23, 10)\n",
    "print(c[-1])"
   ]
  },
  {
   "cell_type": "markdown",
   "id": "6e030f5a",
   "metadata": {},
   "source": [
    "# Slicing:-"
   ]
  },
  {
   "cell_type": "code",
   "execution_count": 10,
   "id": "96b81a85",
   "metadata": {},
   "outputs": [
    {
     "name": "stdout",
     "output_type": "stream",
     "text": [
      "10\n",
      "(1, 2, 3, 4, 5, 6)\n"
     ]
    }
   ],
   "source": [
    "a=(1,2,3,4,5,6,7,8,9,0)\n",
    "print(len(a))\n",
    "print(a[0:6])"
   ]
  },
  {
   "cell_type": "code",
   "execution_count": 11,
   "id": "f4f76fef",
   "metadata": {},
   "outputs": [
    {
     "name": "stdout",
     "output_type": "stream",
     "text": [
      "(3, 4, 5, 6)\n"
     ]
    }
   ],
   "source": [
    "print(a[2:6])#from 2nd index to befor 6th index"
   ]
  },
  {
   "cell_type": "code",
   "execution_count": 12,
   "id": "8913eaed",
   "metadata": {},
   "outputs": [
    {
     "name": "stdout",
     "output_type": "stream",
     "text": [
      "(1, 2, 3, 4, 5, 6)\n"
     ]
    }
   ],
   "source": [
    "print(a[:6])"
   ]
  },
  {
   "cell_type": "code",
   "execution_count": 13,
   "id": "d0bdbcb3",
   "metadata": {},
   "outputs": [
    {
     "name": "stdout",
     "output_type": "stream",
     "text": [
      "(1, 2, 3, 4, 5, 6, 7, 8, 9, 0)\n"
     ]
    }
   ],
   "source": [
    "print(a[:])"
   ]
  },
  {
   "cell_type": "code",
   "execution_count": 14,
   "id": "39de516d",
   "metadata": {},
   "outputs": [
    {
     "name": "stdout",
     "output_type": "stream",
     "text": [
      "(1, 2, 3, 4, 5, 6, 7, 8, 9, 0)\n"
     ]
    }
   ],
   "source": [
    "print(a[::])"
   ]
  },
  {
   "cell_type": "code",
   "execution_count": 15,
   "id": "0adef7f3",
   "metadata": {},
   "outputs": [
    {
     "name": "stdout",
     "output_type": "stream",
     "text": [
      "(1, 2, 3)\n"
     ]
    }
   ],
   "source": [
    "print(a[:3:])"
   ]
  },
  {
   "cell_type": "markdown",
   "id": "613f74df",
   "metadata": {},
   "source": [
    "# Reversing the Tuple:-"
   ]
  },
  {
   "cell_type": "code",
   "execution_count": 24,
   "id": "ca227446",
   "metadata": {},
   "outputs": [
    {
     "name": "stdout",
     "output_type": "stream",
     "text": [
      "10\n",
      "(0, 9, 8, 7, 6, 5, 4, 3, 2, 1)\n"
     ]
    }
   ],
   "source": [
    "a=(1,2,3,4,5,6,7,8,9,0)\n",
    "print(len(a))\n",
    "print(a[::-1])\n",
    "# print(a.reverse()) not valid for tuple"
   ]
  },
  {
   "cell_type": "raw",
   "id": "e878fb61",
   "metadata": {},
   "source": [
    "# write the output of following code\n",
    "t=(1,2,3,4,5,6,7,8)\n",
    "print(t[::]) \n",
    "print(t[3:])\n",
    "print(t[:4])\n",
    "print(t[-2::-5])\n"
   ]
  },
  {
   "cell_type": "code",
   "execution_count": 3,
   "id": "cc4e5797",
   "metadata": {},
   "outputs": [
    {
     "name": "stdout",
     "output_type": "stream",
     "text": [
      "t[::]\n",
      "answer for above(1,2,3,4,5,6,7,8)\n",
      "t[3:]\n",
      "answer for above(4,5,6,7,8)\n",
      "t[:4]\n",
      "answer for above(1,2,3,4)\n",
      "[-2::-5]\n",
      "answer for above(2,7)\n"
     ]
    }
   ],
   "source": [
    "print(\"t[::]\")\n",
    "a=input(\"answer for above\")\n",
    "print(\"t[3:]\")\n",
    "a=input(\"answer for above\")\n",
    "print(\"t[:4]\")\n",
    "a=input(\"answer for above\")\n",
    "print(\"[-2::-5]\")\n",
    "a=input(\"answer for above\")"
   ]
  },
  {
   "cell_type": "markdown",
   "id": "7c1ca803",
   "metadata": {},
   "source": [
    "# Duplicates are allowed in tules:-"
   ]
  },
  {
   "cell_type": "code",
   "execution_count": 5,
   "id": "de4e51ba",
   "metadata": {},
   "outputs": [
    {
     "name": "stdout",
     "output_type": "stream",
     "text": [
      "(1, 2, 3, 4, 1, 2, 3, 4)\n",
      "<class 'tuple'>\n"
     ]
    }
   ],
   "source": [
    "a=(1,2,3,4,1,2,3,4)\n",
    "print(a)\n",
    "print(type(a))"
   ]
  },
  {
   "cell_type": "markdown",
   "id": "847e8806",
   "metadata": {},
   "source": [
    "# How to change values of tuples?"
   ]
  },
  {
   "cell_type": "code",
   "execution_count": 8,
   "id": "a60cccd4",
   "metadata": {},
   "outputs": [
    {
     "name": "stdout",
     "output_type": "stream",
     "text": [
      "['data', 'Analyst', 'Python']\n",
      "<class 'list'>\n",
      "['data', 'banana', 'Python']\n",
      "('data', 'banana', 'Python')\n",
      "<class 'tuple'>\n"
     ]
    }
   ],
   "source": [
    "x=(\"data\",\"Analyst\",\"Python\")\n",
    "# 1. change tuple into List and store it into a variable\n",
    "y=list(x)\n",
    "print(y)\n",
    "print(type(y))\n",
    "\n",
    "# 2. Change values which-ever you want\n",
    "y[1]=\"banana\"\n",
    "print(y)\n",
    "\n",
    "# 3. change list back into tuples\n",
    "x=tuple(y)\n",
    "print(x)\n",
    "print(type(x))\n"
   ]
  },
  {
   "cell_type": "markdown",
   "id": "09629720",
   "metadata": {},
   "source": [
    "# adding items into tuple"
   ]
  },
  {
   "cell_type": "code",
   "execution_count": 18,
   "id": "f9fd777d",
   "metadata": {},
   "outputs": [
    {
     "name": "stdout",
     "output_type": "stream",
     "text": [
      "(25, 50, 75, 125)\n",
      "<class 'tuple'>\n",
      "\n",
      "[25, 50, 75, 125]\n",
      "<class 'list'>\n",
      "\n",
      "[25, 50, 75, 125, 800]\n",
      "<class 'list'>\n",
      "\n",
      "(25, 50, 75, 125, 800)\n",
      "<class 'tuple'>\n"
     ]
    }
   ],
   "source": [
    "a=(25,50,75,125)\n",
    "print(a)\n",
    "print(type(a))\n",
    "print()\n",
    "\n",
    "#change tuple into list\n",
    "b=list(a)\n",
    "print(b)\n",
    "print(type(b))\n",
    "print()\n",
    "\n",
    "#use list append() to add values into list\n",
    "b.append(800)\n",
    "print(b)\n",
    "print(type(b))\n",
    "print()\n",
    "\n",
    "# Convert list into tuple\n",
    "a=tuple(b)\n",
    "print(a)\n",
    "print(type(a))\n"
   ]
  },
  {
   "cell_type": "markdown",
   "id": "5ae13f9e",
   "metadata": {},
   "source": [
    "# Adding tuple to a tuple:-"
   ]
  },
  {
   "cell_type": "code",
   "execution_count": 25,
   "id": "22163a6a",
   "metadata": {},
   "outputs": [
    {
     "name": "stdout",
     "output_type": "stream",
     "text": [
      "('python', 'sql', 'mysql', 'excel')\n"
     ]
    }
   ],
   "source": [
    "tuplev=(\"python\",\"sql\",\"mysql\")\n",
    "y=(\"excel\",)#if you do not add , then it will become string\n",
    "tuplev+=y\n",
    "print(tuplev)"
   ]
  },
  {
   "cell_type": "markdown",
   "id": "ca9bd5d6",
   "metadata": {},
   "source": [
    "# Removing values from tuples:-"
   ]
  },
  {
   "cell_type": "code",
   "execution_count": 3,
   "id": "fd6c7814",
   "metadata": {},
   "outputs": [
    {
     "name": "stdout",
     "output_type": "stream",
     "text": [
      "('Analyst', 'Python')\n",
      "\n",
      "('Analyst', 'Python')\n"
     ]
    }
   ],
   "source": [
    "x=(\"data\",\"Analyst\",\"Python\")\n",
    "y=list(x)\n",
    "y.remove(\"data\")\n",
    "x=tuple(y)\n",
    "print(x)\n",
    "print()\n",
    "\n",
    "#or\n",
    "\n",
    "x = (\"data\", \"Analyst\", \"Python\")\n",
    "y = list(x)\n",
    "y.pop(0)  # Use pop to remove the element at index 0\n",
    "x = tuple(y)\n",
    "print(x)\n"
   ]
  },
  {
   "cell_type": "markdown",
   "id": "6729ee68",
   "metadata": {},
   "source": [
    "- del keyword:-\n",
    "    can delete the tuple completely"
   ]
  },
  {
   "cell_type": "code",
   "execution_count": 1,
   "id": "a9ae0287",
   "metadata": {},
   "outputs": [
    {
     "ename": "NameError",
     "evalue": "name 'm' is not defined",
     "output_type": "error",
     "traceback": [
      "\u001b[1;31m---------------------------------------------------------------------------\u001b[0m",
      "\u001b[1;31mNameError\u001b[0m                                 Traceback (most recent call last)",
      "Cell \u001b[1;32mIn[1], line 3\u001b[0m\n\u001b[0;32m      1\u001b[0m m\u001b[38;5;241m=\u001b[39m(\u001b[38;5;124m\"\u001b[39m\u001b[38;5;124mdata\u001b[39m\u001b[38;5;124m\"\u001b[39m,\u001b[38;5;124m\"\u001b[39m\u001b[38;5;124mAnalyst\u001b[39m\u001b[38;5;124m\"\u001b[39m,\u001b[38;5;124m\"\u001b[39m\u001b[38;5;124mPython\u001b[39m\u001b[38;5;124m\"\u001b[39m)\n\u001b[0;32m      2\u001b[0m \u001b[38;5;28;01mdel\u001b[39;00m m\n\u001b[1;32m----> 3\u001b[0m \u001b[38;5;28mprint\u001b[39m(m)\n",
      "\u001b[1;31mNameError\u001b[0m: name 'm' is not defined"
     ]
    }
   ],
   "source": [
    "m=(\"data\",\"Analyst\",\"Python\")\n",
    "del m\n",
    "print(m)"
   ]
  },
  {
   "cell_type": "markdown",
   "id": "1aa54b6d",
   "metadata": {},
   "source": [
    "# Loop through a Tuple"
   ]
  },
  {
   "cell_type": "code",
   "execution_count": 2,
   "id": "7d4c37b8",
   "metadata": {},
   "outputs": [
    {
     "name": "stdout",
     "output_type": "stream",
     "text": [
      "a\n",
      "b\n",
      "c\n"
     ]
    }
   ],
   "source": [
    "thisTuple=(\"a\",\"b\",\"c\")\n",
    "for i in thisTuple:\n",
    "    print(i)"
   ]
  },
  {
   "cell_type": "code",
   "execution_count": 3,
   "id": "7c270736",
   "metadata": {},
   "outputs": [
    {
     "name": "stdout",
     "output_type": "stream",
     "text": [
      "Apple\n",
      "Banana\n",
      "cat\n"
     ]
    }
   ],
   "source": [
    "thisTuple=(\"Apple\",\"Banana\",\"cat\")\n",
    "i=0\n",
    "while i<len(thisTuple):\n",
    "    print(thisTuple[i])\n",
    "    i=i+1"
   ]
  },
  {
   "cell_type": "markdown",
   "id": "d774c62e",
   "metadata": {},
   "source": [
    "# Join Two Tuples:-"
   ]
  },
  {
   "cell_type": "code",
   "execution_count": 4,
   "id": "ba18588f",
   "metadata": {},
   "outputs": [
    {
     "name": "stdout",
     "output_type": "stream",
     "text": [
      "('a', 'b', 'c', 'Apple', 'Banana', 'cat')\n"
     ]
    }
   ],
   "source": [
    "tuple1=(\"a\",\"b\",\"c\")\n",
    "tuple2=(\"Apple\",\"Banana\",\"cat\")\n",
    "tuple3=tuple1+tuple2\n",
    "print(tuple3)"
   ]
  },
  {
   "cell_type": "markdown",
   "id": "f539f463",
   "metadata": {},
   "source": [
    "# Multiply Tuple:-"
   ]
  },
  {
   "cell_type": "code",
   "execution_count": 6,
   "id": "1147d051",
   "metadata": {},
   "outputs": [
    {
     "name": "stdout",
     "output_type": "stream",
     "text": [
      "('a', 'b', 'c', 'a', 'b', 'c')\n"
     ]
    }
   ],
   "source": [
    "tuple1=(\"a\",\"b\",\"c\")\n",
    "tuple3=tuple1*2\n",
    "print(tuple3)"
   ]
  },
  {
   "cell_type": "markdown",
   "id": "2eaed9e1",
   "metadata": {},
   "source": [
    "# Write a Python Program to find repeated items in a tuple:-"
   ]
  },
  {
   "cell_type": "code",
   "execution_count": 8,
   "id": "65982e6d",
   "metadata": {},
   "outputs": [
    {
     "name": "stdout",
     "output_type": "stream",
     "text": [
      "<class 'tuple'>\n",
      "3\n"
     ]
    }
   ],
   "source": [
    "#create a tuple\n",
    "tupleX=1,2,3,4,1,2,3,4,1,2,3,4\n",
    "print(type(tupleX))\n",
    "\n",
    "#return the number of times it appears in thr tuple\n",
    "count1=tupleX.count(1)\n",
    "print(count1)"
   ]
  },
  {
   "cell_type": "markdown",
   "id": "0edc0694",
   "metadata": {},
   "source": [
    "Write a Program to accept 5 numbers from the users and store it in a tuple"
   ]
  },
  {
   "cell_type": "code",
   "execution_count": 8,
   "id": "ef452cbc",
   "metadata": {},
   "outputs": [
    {
     "name": "stdout",
     "output_type": "stream",
     "text": [
      "Enter 1 Number->1\n",
      "(1,)\n",
      "Enter 2 Number->2\n",
      "(1, 2)\n",
      "Enter 3 Number->3\n",
      "(1, 2, 3)\n",
      "Enter 4 Number->4\n",
      "(1, 2, 3, 4)\n",
      "Enter 5 Number->5\n",
      "(1, 2, 3, 4, 5)\n"
     ]
    }
   ],
   "source": [
    "t=()\n",
    "i=1\n",
    "while i<=5:\n",
    "    inputNum=int(input(\"Enter \"+str(i) +\" Number->\"))\n",
    "    t=t+(inputNum,)\n",
    "    i=i+1\n",
    "    print(t)"
   ]
  },
  {
   "cell_type": "code",
   "execution_count": null,
   "id": "19fac86a",
   "metadata": {},
   "outputs": [],
   "source": []
  }
 ],
 "metadata": {
  "kernelspec": {
   "display_name": "Python 3 (ipykernel)",
   "language": "python",
   "name": "python3"
  },
  "language_info": {
   "codemirror_mode": {
    "name": "ipython",
    "version": 3
   },
   "file_extension": ".py",
   "mimetype": "text/x-python",
   "name": "python",
   "nbconvert_exporter": "python",
   "pygments_lexer": "ipython3",
   "version": "3.11.4"
  }
 },
 "nbformat": 4,
 "nbformat_minor": 5
}
