{
 "cells": [
  {
   "cell_type": "markdown",
   "id": "ffb60b09",
   "metadata": {},
   "source": [
    "# What are Strings in Python?"
   ]
  },
  {
   "cell_type": "markdown",
   "id": "552458f4",
   "metadata": {},
   "source": [
    "- A string is a data structure in Python that represents a sequence of characters. \n",
    "\n",
    "- It is an immutable data type, meaning that once you have created a string, you cannot change it. \n",
    "\n",
    "- Strings are used widely in many different applications, such as storing and manipulating text data, representing names, addresses, and other types of data that can be represented as text.\n",
    "\n",
    "- Python string is the collection of the characters surrounded by single quotes, double quotes, or triple quotes. \n",
    "\n",
    "- The computer d&es not understand the characters; internally, it stores manipulated character as the combination of the O's and I's.\n",
    "\n",
    "- Each character is encoded in the ASCII or Unicode character. \n",
    "\n",
    "- So we can say that Python strings are also called the collection of Unicode characters.\n",
    "\n",
    "- In Python, strings can be created by enclosing the character or the sequence of characters in the quotes. \n",
    "\n",
    "- Python allows us to use singlenquotes or triple quotes to create the string."
   ]
  },
  {
   "cell_type": "markdown",
   "id": "bf4dfbad",
   "metadata": {},
   "source": [
    "# Creating Strings In Python"
   ]
  },
  {
   "cell_type": "code",
   "execution_count": 5,
   "id": "a9e47978",
   "metadata": {},
   "outputs": [
    {
     "name": "stdout",
     "output_type": "stream",
     "text": [
      "hello\n"
     ]
    }
   ],
   "source": [
    "a=\"hello\"\n",
    "print(a)"
   ]
  },
  {
   "cell_type": "code",
   "execution_count": 4,
   "id": "efba39a2",
   "metadata": {},
   "outputs": [
    {
     "name": "stdout",
     "output_type": "stream",
     "text": [
      "String with the use of Single Quotes:\n",
      "Welcome to the Python Class\n"
     ]
    }
   ],
   "source": [
    "String = \"Welcome to the Python Class\"\n",
    "print('String with the use of Single Quotes:')\n",
    "print(String)"
   ]
  },
  {
   "cell_type": "markdown",
   "id": "8e1f7e97",
   "metadata": {},
   "source": [
    "# Multiline String"
   ]
  },
  {
   "cell_type": "code",
   "execution_count": 6,
   "id": "037f7477",
   "metadata": {},
   "outputs": [
    {
     "name": "stdout",
     "output_type": "stream",
     "text": [
      "name:-Sagar\n",
      "     Aspiring Data Analyst\n"
     ]
    }
   ],
   "source": [
    "b=\"\"\"name:-Sagar\n",
    "     Aspiring Data Analyst\"\"\"\n",
    "print(b)"
   ]
  },
  {
   "cell_type": "markdown",
   "id": "9c4ce9e8",
   "metadata": {},
   "source": [
    "# Indexing in String"
   ]
  },
  {
   "attachments": {
    "python-string.png": {
     "image/png": "[encoded data removed]"
    }
   },
   "cell_type": "markdown",
   "id": "82d5d0d5",
   "metadata": {},
   "source": [
    "![python-string.png](attachment:python-string.png)"
   ]
  },
  {
   "cell_type": "code",
   "execution_count": 7,
   "id": "dbc0ca22",
   "metadata": {},
   "outputs": [
    {
     "name": "stdout",
     "output_type": "stream",
     "text": [
      "y\n"
     ]
    }
   ],
   "source": [
    "a='python'\n",
    "print(a[1])"
   ]
  },
  {
   "cell_type": "code",
   "execution_count": 9,
   "id": "4543eadc",
   "metadata": {},
   "outputs": [
    {
     "name": "stdout",
     "output_type": "stream",
     "text": [
      "n\n"
     ]
    }
   ],
   "source": [
    "print(a[-1])"
   ]
  },
  {
   "cell_type": "code",
   "execution_count": 15,
   "id": "9c2f38d3",
   "metadata": {},
   "outputs": [
    {
     "name": "stdout",
     "output_type": "stream",
     "text": [
      " -printing Sapce\n"
     ]
    }
   ],
   "source": [
    "b='Data Analyst'\n",
    "print(b[4]+\"-printing Sapce\")#printing space"
   ]
  },
  {
   "cell_type": "code",
   "execution_count": 16,
   "id": "09373493",
   "metadata": {},
   "outputs": [
    {
     "name": "stdout",
     "output_type": "stream",
     "text": [
      " -printing Sapce\n"
     ]
    }
   ],
   "source": [
    "print(b[-8]+\"-printing Sapce\")#printing space"
   ]
  },
  {
   "cell_type": "markdown",
   "id": "79fb47c8",
   "metadata": {},
   "source": [
    "# Slicing of Strng"
   ]
  },
  {
   "cell_type": "code",
   "execution_count": 18,
   "id": "fef60289",
   "metadata": {},
   "outputs": [
    {
     "name": "stdout",
     "output_type": "stream",
     "text": [
      "Sagar\n"
     ]
    }
   ],
   "source": [
    "k='Sagar Dodamani'\n",
    "print(k[0:5])"
   ]
  },
  {
   "cell_type": "code",
   "execution_count": 19,
   "id": "784524d3",
   "metadata": {},
   "outputs": [
    {
     "name": "stdout",
     "output_type": "stream",
     "text": [
      "agar\n"
     ]
    }
   ],
   "source": [
    "print(k[1:5])"
   ]
  },
  {
   "cell_type": "code",
   "execution_count": 24,
   "id": "db5cced7",
   "metadata": {},
   "outputs": [
    {
     "name": "stdout",
     "output_type": "stream",
     "text": [
      "ar\n"
     ]
    }
   ],
   "source": [
    "print(k[1:5:3])#[starting_character:upto_character:each n'th character from starting character]"
   ]
  },
  {
   "cell_type": "code",
   "execution_count": 23,
   "id": "bf00d912",
   "metadata": {},
   "outputs": [
    {
     "name": "stdout",
     "output_type": "stream",
     "text": [
      "Sa\n"
     ]
    }
   ],
   "source": [
    "print(k[0:5:3])"
   ]
  },
  {
   "cell_type": "code",
   "execution_count": 25,
   "id": "a763587e",
   "metadata": {},
   "outputs": [
    {
     "name": "stdout",
     "output_type": "stream",
     "text": [
      "Sa\n"
     ]
    }
   ],
   "source": [
    "print(k[:2])#from zero total 2 characters "
   ]
  },
  {
   "cell_type": "code",
   "execution_count": 26,
   "id": "42b11022",
   "metadata": {},
   "outputs": [
    {
     "name": "stdout",
     "output_type": "stream",
     "text": [
      "SgrDdmn\n"
     ]
    }
   ],
   "source": [
    "print(k[::2])"
   ]
  },
  {
   "cell_type": "markdown",
   "id": "94231ba6",
   "metadata": {},
   "source": [
    "# Reversing a String"
   ]
  },
  {
   "cell_type": "code",
   "execution_count": 27,
   "id": "9c0c8e2e",
   "metadata": {},
   "outputs": [
    {
     "name": "stdout",
     "output_type": "stream",
     "text": [
      "? no gniog seiduts ruoy s'woh\n"
     ]
    }
   ],
   "source": [
    "s=\"how's your studies going on ?\"\n",
    "print(s[::-1])"
   ]
  },
  {
   "cell_type": "markdown",
   "id": "8fcf917c",
   "metadata": {},
   "source": [
    "# Finding the Length of string"
   ]
  },
  {
   "cell_type": "code",
   "execution_count": 29,
   "id": "4aedca96",
   "metadata": {},
   "outputs": [
    {
     "name": "stdout",
     "output_type": "stream",
     "text": [
      "5\n",
      "<class 'str'>\n"
     ]
    }
   ],
   "source": [
    "a=\"Hello\"\n",
    "print(len(a))\n",
    "print(type(a))"
   ]
  },
  {
   "cell_type": "markdown",
   "id": "7d3c4578",
   "metadata": {},
   "source": [
    "# Check String "
   ]
  },
  {
   "cell_type": "code",
   "execution_count": 30,
   "id": "76b8e0f8",
   "metadata": {},
   "outputs": [
    {
     "name": "stdout",
     "output_type": "stream",
     "text": [
      "True\n"
     ]
    }
   ],
   "source": [
    "s=\"how's your studies going on ?\"\n",
    "print(\"your\" in s)"
   ]
  },
  {
   "cell_type": "code",
   "execution_count": 31,
   "id": "83d03b70",
   "metadata": {},
   "outputs": [
    {
     "name": "stdout",
     "output_type": "stream",
     "text": [
      "False\n"
     ]
    }
   ],
   "source": [
    "s=\"how's your studies going on ?\"\n",
    "print(\"your\" not in s)"
   ]
  },
  {
   "cell_type": "markdown",
   "id": "7bdb6f34",
   "metadata": {},
   "source": [
    "# Python-Modify String"
   ]
  },
  {
   "cell_type": "markdown",
   "id": "729e92ef",
   "metadata": {},
   "source": [
    "# upper():"
   ]
  },
  {
   "cell_type": "code",
   "execution_count": 33,
   "id": "0b9c3ffc",
   "metadata": {},
   "outputs": [
    {
     "name": "stdout",
     "output_type": "stream",
     "text": [
      "HELLO, WORLD\n"
     ]
    }
   ],
   "source": [
    "a=\"Hello, World\"\n",
    "print(a.upper())"
   ]
  },
  {
   "cell_type": "markdown",
   "id": "e970ce1d",
   "metadata": {},
   "source": [
    "# lower():"
   ]
  },
  {
   "cell_type": "code",
   "execution_count": 36,
   "id": "8cd9af57",
   "metadata": {},
   "outputs": [
    {
     "name": "stdout",
     "output_type": "stream",
     "text": [
      "hello, world\n"
     ]
    }
   ],
   "source": [
    "c=\"Hello, WOrlD\"\n",
    "print(c.lower())"
   ]
  },
  {
   "cell_type": "markdown",
   "id": "27209d38",
   "metadata": {},
   "source": [
    "# replace():"
   ]
  },
  {
   "cell_type": "code",
   "execution_count": 39,
   "id": "71a9594a",
   "metadata": {},
   "outputs": [
    {
     "name": "stdout",
     "output_type": "stream",
     "text": [
      "Bye, world\n"
     ]
    }
   ],
   "source": [
    "c=\"Hello, world\"\n",
    "print(c.replace(\"Hello\",\"Bye\"))"
   ]
  },
  {
   "cell_type": "markdown",
   "id": "bf608794",
   "metadata": {},
   "source": [
    "# String Concatenation:"
   ]
  },
  {
   "cell_type": "code",
   "execution_count": 40,
   "id": "1665104f",
   "metadata": {},
   "outputs": [
    {
     "name": "stdout",
     "output_type": "stream",
     "text": [
      "Hello world\n"
     ]
    }
   ],
   "source": [
    "a=\"Hello\"\n",
    "b=\"world\"\n",
    "c=a+\" \"+b\n",
    "print(c)"
   ]
  },
  {
   "cell_type": "markdown",
   "id": "6ad80982",
   "metadata": {},
   "source": [
    "# index():"
   ]
  },
  {
   "cell_type": "code",
   "execution_count": 42,
   "id": "72ba2d5a",
   "metadata": {},
   "outputs": [
    {
     "name": "stdout",
     "output_type": "stream",
     "text": [
      "6\n",
      "11\n"
     ]
    }
   ],
   "source": [
    "c=\"Hello, world\"\n",
    "print(c.index(\" \"))\n",
    "print(c.index(\"d\"))"
   ]
  },
  {
   "cell_type": "markdown",
   "id": "2abfbf34",
   "metadata": {},
   "source": [
    "# find():"
   ]
  },
  {
   "cell_type": "code",
   "execution_count": 44,
   "id": "e7c1a69e",
   "metadata": {},
   "outputs": [
    {
     "name": "stdout",
     "output_type": "stream",
     "text": [
      "6\n",
      "11\n",
      "1\n"
     ]
    }
   ],
   "source": [
    "c=\"Hello, world\"\n",
    "print(c.find(\" \"))\n",
    "print(c.find(\"d\"))\n",
    "print(c.find(\"e\"))"
   ]
  },
  {
   "cell_type": "code",
   "execution_count": null,
   "id": "7d432b62",
   "metadata": {},
   "outputs": [],
   "source": []
  }
 ],
 "metadata": {
  "kernelspec": {
   "display_name": "Python 3 (ipykernel)",
   "language": "python",
   "name": "python3"
  },
  "language_info": {
   "codemirror_mode": {
    "name": "ipython",
    "version": 3
   },
   "file_extension": ".py",
   "mimetype": "text/x-python",
   "name": "python",
   "nbconvert_exporter": "python",
   "pygments_lexer": "ipython3",
   "version": "3.11.4"
  }
 },
 "nbformat": 4,
 "nbformat_minor": 5
}
