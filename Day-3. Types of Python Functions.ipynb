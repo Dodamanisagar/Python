{
 "cells": [
  {
   "cell_type": "markdown",
   "id": "e18fb575",
   "metadata": {},
   "source": [
    "# Types of Python Functions"
   ]
  },
  {
   "cell_type": "raw",
   "id": "1da27818",
   "metadata": {},
   "source": [
    "• Built-in Functions in Python\n",
    "• Python Recursive Function\n",
    "• Python Lambda Function\n",
    "• User-defined Functions in Python"
   ]
  },
  {
   "cell_type": "markdown",
   "id": "05e7efff",
   "metadata": {},
   "source": [
    "# Why We Need Python Functions?"
   ]
  },
  {
   "cell_type": "raw",
   "id": "478326a0",
   "metadata": {},
   "source": [
    "• Would you rather write a single piece of code IO times or just once and use\n",
    "  it 10 times?\n",
    "• first reason behind why use a function is because of its reusability. \n",
    "• The fact that even complex operations could be put together as singular tasks that would run with just a call by its name is what has made computer   codes of today so much clearer as well.\n",
    "• A calculator is probably the most common example of this. \n",
    "• It has the provision of addition, subtraction, multiplication, division,and other functions. \n",
    "• All its functions have been clearly predefined into it, but it only performs those that you choose to call by pressing its respective button."
   ]
  },
  {
   "cell_type": "markdown",
   "id": "53aa6e6d",
   "metadata": {},
   "source": [
    "# Built-in Functions in Python"
   ]
  },
  {
   "cell_type": "raw",
   "id": "cd2b73e1",
   "metadata": {},
   "source": [
    "• The Python interpreter has a number of functions that are always\n",
    "available for use. \n",
    "• These functions are called built-in functions. \n",
    "• For example, print() function prints the given object to the standard\n",
    "output device (screen) or to the text stream file.\n",
    "• In Python 3.6, there are 68 built-in functions."
   ]
  },
  {
   "cell_type": "markdown",
   "id": "4894344b",
   "metadata": {},
   "source": [
    "# 1. abs() "
   ]
  },
  {
   "cell_type": "markdown",
   "id": "417161b1",
   "metadata": {},
   "source": [
    "Returns the absolute value of the specified number"
   ]
  },
  {
   "cell_type": "code",
   "execution_count": 1,
   "id": "94ccedc4",
   "metadata": {},
   "outputs": [
    {
     "name": "stdout",
     "output_type": "stream",
     "text": [
      "10\n"
     ]
    }
   ],
   "source": [
    "x=abs(-10)\n",
    "print(x)"
   ]
  },
  {
   "cell_type": "code",
   "execution_count": 2,
   "id": "575b107a",
   "metadata": {},
   "outputs": [
    {
     "name": "stdout",
     "output_type": "stream",
     "text": [
      "-10\n"
     ]
    }
   ],
   "source": [
    "y=-x\n",
    "print(y)"
   ]
  },
  {
   "cell_type": "code",
   "execution_count": 3,
   "id": "faaa5f18",
   "metadata": {},
   "outputs": [
    {
     "name": "stdout",
     "output_type": "stream",
     "text": [
      "5.830951894845301\n"
     ]
    }
   ],
   "source": [
    "z=abs(3+5j)\n",
    "print(z)"
   ]
  },
  {
   "cell_type": "markdown",
   "id": "573154ae",
   "metadata": {},
   "source": [
    "# 2. bin() "
   ]
  },
  {
   "cell_type": "markdown",
   "id": "c30fd56b",
   "metadata": {},
   "source": [
    "Returns the binary version of a specified integer"
   ]
  },
  {
   "cell_type": "code",
   "execution_count": 4,
   "id": "5e4b7ada",
   "metadata": {},
   "outputs": [
    {
     "name": "stdout",
     "output_type": "stream",
     "text": [
      "0b10\n"
     ]
    }
   ],
   "source": [
    "x=bin(2)\n",
    "print(x)"
   ]
  },
  {
   "cell_type": "code",
   "execution_count": 5,
   "id": "4b451c0c",
   "metadata": {},
   "outputs": [
    {
     "name": "stdout",
     "output_type": "stream",
     "text": [
      "0b100100\n"
     ]
    }
   ],
   "source": [
    "y=bin(36)\n",
    "print(y)"
   ]
  },
  {
   "cell_type": "code",
   "execution_count": 6,
   "id": "f72a0990",
   "metadata": {},
   "outputs": [
    {
     "name": "stdout",
     "output_type": "stream",
     "text": [
      "0b111000\n"
     ]
    }
   ],
   "source": [
    "z=bin(56)\n",
    "print(z)"
   ]
  },
  {
   "cell_type": "markdown",
   "id": "3222b98e",
   "metadata": {},
   "source": [
    "# 3. bytes() "
   ]
  },
  {
   "cell_type": "markdown",
   "id": "20012758",
   "metadata": {},
   "source": [
    "Returns a bytes objects"
   ]
  },
  {
   "cell_type": "markdown",
   "id": "062a99a4",
   "metadata": {},
   "source": [
    "It can converts objects into bytes objects or create empty bytes object of the specified size"
   ]
  },
  {
   "cell_type": "code",
   "execution_count": 7,
   "id": "a332156b",
   "metadata": {},
   "outputs": [
    {
     "name": "stdout",
     "output_type": "stream",
     "text": [
      "b'\\x00\\x00\\x00\\x00'\n"
     ]
    }
   ],
   "source": [
    "x=bytes(4)\n",
    "print(x)"
   ]
  },
  {
   "cell_type": "code",
   "execution_count": 8,
   "id": "fad68ffd",
   "metadata": {},
   "outputs": [
    {
     "name": "stdout",
     "output_type": "stream",
     "text": [
      "b'\\x00\\x00\\x00\\x00\\x00\\x00\\x00\\x00\\x00\\x00\\x00\\x00\\x00\\x00\\x00\\x00\\x00\\x00\\x00\\x00\\x00\\x00\\x00\\x00\\x00\\x00\\x00\\x00\\x00\\x00\\x00\\x00'\n"
     ]
    }
   ],
   "source": [
    "x=bytes(32)\n",
    "print(x)"
   ]
  },
  {
   "cell_type": "markdown",
   "id": "3a64e3ff",
   "metadata": {},
   "source": [
    "# 4. chr()"
   ]
  },
  {
   "cell_type": "markdown",
   "id": "a14207df",
   "metadata": {},
   "source": [
    "Returns the character that represents the specified unicode"
   ]
  },
  {
   "cell_type": "code",
   "execution_count": 10,
   "id": "03660cf4",
   "metadata": {},
   "outputs": [
    {
     "name": "stdout",
     "output_type": "stream",
     "text": [
      "a\n"
     ]
    }
   ],
   "source": [
    "x=chr(97)\n",
    "print(x)"
   ]
  },
  {
   "cell_type": "code",
   "execution_count": 11,
   "id": "84ddeaeb",
   "metadata": {},
   "outputs": [
    {
     "name": "stdout",
     "output_type": "stream",
     "text": [
      "^\n"
     ]
    }
   ],
   "source": [
    "x=chr(94)\n",
    "print(x)"
   ]
  },
  {
   "cell_type": "code",
   "execution_count": 12,
   "id": "aac7aff1",
   "metadata": {},
   "outputs": [
    {
     "name": "stdout",
     "output_type": "stream",
     "text": [
      "_\n"
     ]
    }
   ],
   "source": [
    "x=chr(95)\n",
    "print(x)"
   ]
  },
  {
   "cell_type": "markdown",
   "id": "ee019f9c",
   "metadata": {},
   "source": [
    "# 5. complex()"
   ]
  },
  {
   "cell_type": "markdown",
   "id": "787f66ff",
   "metadata": {},
   "source": [
    "Returns a complex number by specifying a real number and an imaginary number\n",
    "* SYNTAX:-\n",
    "complex(real_number,imaginary_number)"
   ]
  },
  {
   "cell_type": "code",
   "execution_count": 13,
   "id": "567cdd1a",
   "metadata": {},
   "outputs": [
    {
     "name": "stdout",
     "output_type": "stream",
     "text": [
      "(3+5j)\n"
     ]
    }
   ],
   "source": [
    " print(complex(3,5))"
   ]
  },
  {
   "cell_type": "code",
   "execution_count": 14,
   "id": "ba02f960",
   "metadata": {},
   "outputs": [
    {
     "name": "stdout",
     "output_type": "stream",
     "text": [
      "(2.5+8.91j)\n"
     ]
    }
   ],
   "source": [
    "print(complex(2.5,8.91))"
   ]
  },
  {
   "cell_type": "code",
   "execution_count": 15,
   "id": "24b5527e",
   "metadata": {},
   "outputs": [
    {
     "name": "stdout",
     "output_type": "stream",
     "text": [
      "(12+0j)\n"
     ]
    }
   ],
   "source": [
    "print(complex('12'))"
   ]
  },
  {
   "cell_type": "code",
   "execution_count": 16,
   "id": "2472e7c7",
   "metadata": {},
   "outputs": [
    {
     "name": "stdout",
     "output_type": "stream",
     "text": [
      "(12+0j)\n"
     ]
    }
   ],
   "source": [
    "print(complex(12))"
   ]
  },
  {
   "cell_type": "markdown",
   "id": "583933c0",
   "metadata": {},
   "source": [
    "# 6. float()"
   ]
  },
  {
   "cell_type": "markdown",
   "id": "45133e97",
   "metadata": {},
   "source": [
    "Converts specified value into a floating point number"
   ]
  },
  {
   "cell_type": "code",
   "execution_count": 17,
   "id": "ff255e63",
   "metadata": {},
   "outputs": [
    {
     "name": "stdout",
     "output_type": "stream",
     "text": [
      "2.0\n"
     ]
    }
   ],
   "source": [
    "print(float(2))"
   ]
  },
  {
   "cell_type": "code",
   "execution_count": 18,
   "id": "9e50762a",
   "metadata": {},
   "outputs": [
    {
     "name": "stdout",
     "output_type": "stream",
     "text": [
      "56.0\n"
     ]
    }
   ],
   "source": [
    "print(float(56))"
   ]
  },
  {
   "cell_type": "markdown",
   "id": "7b6d044c",
   "metadata": {},
   "source": [
    "# 7.int()"
   ]
  },
  {
   "cell_type": "markdown",
   "id": "df7f6849",
   "metadata": {},
   "source": [
    "Converts the specified value into an integer number"
   ]
  },
  {
   "cell_type": "code",
   "execution_count": 19,
   "id": "5a57b986",
   "metadata": {},
   "outputs": [
    {
     "name": "stdout",
     "output_type": "stream",
     "text": [
      "12\n"
     ]
    }
   ],
   "source": [
    "print(int(12.34))"
   ]
  },
  {
   "cell_type": "code",
   "execution_count": 20,
   "id": "365ef5f9",
   "metadata": {},
   "outputs": [
    {
     "ename": "TypeError",
     "evalue": "int() argument must be a string, a bytes-like object or a real number, not 'complex'",
     "output_type": "error",
     "traceback": [
      "\u001b[1;31m---------------------------------------------------------------------------\u001b[0m",
      "\u001b[1;31mTypeError\u001b[0m                                 Traceback (most recent call last)",
      "Cell \u001b[1;32mIn[20], line 1\u001b[0m\n\u001b[1;32m----> 1\u001b[0m \u001b[38;5;28mprint\u001b[39m(\u001b[38;5;28mint\u001b[39m(\u001b[38;5;241m2\u001b[39m\u001b[38;5;241m+\u001b[39m\u001b[38;5;241m3\u001b[39mj))\n",
      "\u001b[1;31mTypeError\u001b[0m: int() argument must be a string, a bytes-like object or a real number, not 'complex'"
     ]
    }
   ],
   "source": [
    "print(int(2+3j))"
   ]
  },
  {
   "cell_type": "code",
   "execution_count": 21,
   "id": "7a6e6735",
   "metadata": {},
   "outputs": [
    {
     "name": "stdout",
     "output_type": "stream",
     "text": [
      "123\n"
     ]
    }
   ],
   "source": [
    "print(int(123.4567))"
   ]
  },
  {
   "cell_type": "markdown",
   "id": "b93a8427",
   "metadata": {},
   "source": [
    "# 8. str()"
   ]
  },
  {
   "cell_type": "markdown",
   "id": "4eb29624",
   "metadata": {},
   "source": [
    "Converts integer numbers into string"
   ]
  },
  {
   "cell_type": "code",
   "execution_count": 22,
   "id": "be85c146",
   "metadata": {},
   "outputs": [
    {
     "name": "stdout",
     "output_type": "stream",
     "text": [
      "2345\n"
     ]
    }
   ],
   "source": [
    "print(str(\"2345\"))"
   ]
  },
  {
   "cell_type": "code",
   "execution_count": 24,
   "id": "2073c8d3",
   "metadata": {},
   "outputs": [
    {
     "name": "stdout",
     "output_type": "stream",
     "text": [
      "<class 'str'>\n"
     ]
    }
   ],
   "source": [
    "print(type(str(\"2345\")))"
   ]
  },
  {
   "cell_type": "code",
   "execution_count": 25,
   "id": "54e6252d",
   "metadata": {},
   "outputs": [
    {
     "name": "stdout",
     "output_type": "stream",
     "text": [
      "2345\n"
     ]
    }
   ],
   "source": [
    "print(str(2345))"
   ]
  },
  {
   "cell_type": "code",
   "execution_count": 26,
   "id": "80312a69",
   "metadata": {},
   "outputs": [
    {
     "name": "stdout",
     "output_type": "stream",
     "text": [
      "24.45\n",
      "<class 'str'>\n"
     ]
    }
   ],
   "source": [
    "x=str(24.45)\n",
    "print(x)\n",
    "print(type(x))"
   ]
  },
  {
   "cell_type": "markdown",
   "id": "7f77812a",
   "metadata": {},
   "source": [
    "# 9. help()"
   ]
  },
  {
   "cell_type": "markdown",
   "id": "f331bf93",
   "metadata": {},
   "source": [
    "This function is used to display the documentation of Modules,Functions,Classes,Keywords etc"
   ]
  },
  {
   "cell_type": "code",
   "execution_count": 27,
   "id": "e3e28975",
   "metadata": {},
   "outputs": [
    {
     "name": "stdout",
     "output_type": "stream",
     "text": [
      "Help on built-in function print in module builtins:\n",
      "\n",
      "print(*args, sep=' ', end='\\n', file=None, flush=False)\n",
      "    Prints the values to a stream, or to sys.stdout by default.\n",
      "    \n",
      "    sep\n",
      "      string inserted between values, default a space.\n",
      "    end\n",
      "      string appended after the last value, default a newline.\n",
      "    file\n",
      "      a file-like object (stream); defaults to the current sys.stdout.\n",
      "    flush\n",
      "      whether to forcibly flush the stream.\n",
      "\n"
     ]
    }
   ],
   "source": [
    "help(print)"
   ]
  },
  {
   "cell_type": "code",
   "execution_count": 1,
   "id": "aa0e590f",
   "metadata": {},
   "outputs": [
    {
     "name": "stdout",
     "output_type": "stream",
     "text": [
      "Help on class float in module builtins:\n",
      "\n",
      "class float(object)\n",
      " |  float(x=0, /)\n",
      " |  \n",
      " |  Convert a string or number to a floating point number, if possible.\n",
      " |  \n",
      " |  Methods defined here:\n",
      " |  \n",
      " |  __abs__(self, /)\n",
      " |      abs(self)\n",
      " |  \n",
      " |  __add__(self, value, /)\n",
      " |      Return self+value.\n",
      " |  \n",
      " |  __bool__(self, /)\n",
      " |      True if self else False\n",
      " |  \n",
      " |  __ceil__(self, /)\n",
      " |      Return the ceiling as an Integral.\n",
      " |  \n",
      " |  __divmod__(self, value, /)\n",
      " |      Return divmod(self, value).\n",
      " |  \n",
      " |  __eq__(self, value, /)\n",
      " |      Return self==value.\n",
      " |  \n",
      " |  __float__(self, /)\n",
      " |      float(self)\n",
      " |  \n",
      " |  __floor__(self, /)\n",
      " |      Return the floor as an Integral.\n",
      " |  \n",
      " |  __floordiv__(self, value, /)\n",
      " |      Return self//value.\n",
      " |  \n",
      " |  __format__(self, format_spec, /)\n",
      " |      Formats the float according to format_spec.\n",
      " |  \n",
      " |  __ge__(self, value, /)\n",
      " |      Return self>=value.\n",
      " |  \n",
      " |  __getattribute__(self, name, /)\n",
      " |      Return getattr(self, name).\n",
      " |  \n",
      " |  __getnewargs__(self, /)\n",
      " |  \n",
      " |  __gt__(self, value, /)\n",
      " |      Return self>value.\n",
      " |  \n",
      " |  __hash__(self, /)\n",
      " |      Return hash(self).\n",
      " |  \n",
      " |  __int__(self, /)\n",
      " |      int(self)\n",
      " |  \n",
      " |  __le__(self, value, /)\n",
      " |      Return self<=value.\n",
      " |  \n",
      " |  __lt__(self, value, /)\n",
      " |      Return self<value.\n",
      " |  \n",
      " |  __mod__(self, value, /)\n",
      " |      Return self%value.\n",
      " |  \n",
      " |  __mul__(self, value, /)\n",
      " |      Return self*value.\n",
      " |  \n",
      " |  __ne__(self, value, /)\n",
      " |      Return self!=value.\n",
      " |  \n",
      " |  __neg__(self, /)\n",
      " |      -self\n",
      " |  \n",
      " |  __pos__(self, /)\n",
      " |      +self\n",
      " |  \n",
      " |  __pow__(self, value, mod=None, /)\n",
      " |      Return pow(self, value, mod).\n",
      " |  \n",
      " |  __radd__(self, value, /)\n",
      " |      Return value+self.\n",
      " |  \n",
      " |  __rdivmod__(self, value, /)\n",
      " |      Return divmod(value, self).\n",
      " |  \n",
      " |  __repr__(self, /)\n",
      " |      Return repr(self).\n",
      " |  \n",
      " |  __rfloordiv__(self, value, /)\n",
      " |      Return value//self.\n",
      " |  \n",
      " |  __rmod__(self, value, /)\n",
      " |      Return value%self.\n",
      " |  \n",
      " |  __rmul__(self, value, /)\n",
      " |      Return value*self.\n",
      " |  \n",
      " |  __round__(self, ndigits=None, /)\n",
      " |      Return the Integral closest to x, rounding half toward even.\n",
      " |      \n",
      " |      When an argument is passed, work like built-in round(x, ndigits).\n",
      " |  \n",
      " |  __rpow__(self, value, mod=None, /)\n",
      " |      Return pow(value, self, mod).\n",
      " |  \n",
      " |  __rsub__(self, value, /)\n",
      " |      Return value-self.\n",
      " |  \n",
      " |  __rtruediv__(self, value, /)\n",
      " |      Return value/self.\n",
      " |  \n",
      " |  __sub__(self, value, /)\n",
      " |      Return self-value.\n",
      " |  \n",
      " |  __truediv__(self, value, /)\n",
      " |      Return self/value.\n",
      " |  \n",
      " |  __trunc__(self, /)\n",
      " |      Return the Integral closest to x between 0 and x.\n",
      " |  \n",
      " |  as_integer_ratio(self, /)\n",
      " |      Return integer ratio.\n",
      " |      \n",
      " |      Return a pair of integers, whose ratio is exactly equal to the original float\n",
      " |      and with a positive denominator.\n",
      " |      \n",
      " |      Raise OverflowError on infinities and a ValueError on NaNs.\n",
      " |      \n",
      " |      >>> (10.0).as_integer_ratio()\n",
      " |      (10, 1)\n",
      " |      >>> (0.0).as_integer_ratio()\n",
      " |      (0, 1)\n",
      " |      >>> (-.25).as_integer_ratio()\n",
      " |      (-1, 4)\n",
      " |  \n",
      " |  conjugate(self, /)\n",
      " |      Return self, the complex conjugate of any float.\n",
      " |  \n",
      " |  hex(self, /)\n",
      " |      Return a hexadecimal representation of a floating-point number.\n",
      " |      \n",
      " |      >>> (-0.1).hex()\n",
      " |      '-0x1.999999999999ap-4'\n",
      " |      >>> 3.14159.hex()\n",
      " |      '0x1.921f9f01b866ep+1'\n",
      " |  \n",
      " |  is_integer(self, /)\n",
      " |      Return True if the float is an integer.\n",
      " |  \n",
      " |  ----------------------------------------------------------------------\n",
      " |  Class methods defined here:\n",
      " |  \n",
      " |  __getformat__(typestr, /) from builtins.type\n",
      " |      You probably don't want to use this function.\n",
      " |      \n",
      " |        typestr\n",
      " |          Must be 'double' or 'float'.\n",
      " |      \n",
      " |      It exists mainly to be used in Python's test suite.\n",
      " |      \n",
      " |      This function returns whichever of 'unknown', 'IEEE, big-endian' or 'IEEE,\n",
      " |      little-endian' best describes the format of floating point numbers used by the\n",
      " |      C type named by typestr.\n",
      " |  \n",
      " |  fromhex(string, /) from builtins.type\n",
      " |      Create a floating-point number from a hexadecimal string.\n",
      " |      \n",
      " |      >>> float.fromhex('0x1.ffffp10')\n",
      " |      2047.984375\n",
      " |      >>> float.fromhex('-0x1p-1074')\n",
      " |      -5e-324\n",
      " |  \n",
      " |  ----------------------------------------------------------------------\n",
      " |  Static methods defined here:\n",
      " |  \n",
      " |  __new__(*args, **kwargs) from builtins.type\n",
      " |      Create and return a new object.  See help(type) for accurate signature.\n",
      " |  \n",
      " |  ----------------------------------------------------------------------\n",
      " |  Data descriptors defined here:\n",
      " |  \n",
      " |  imag\n",
      " |      the imaginary part of a complex number\n",
      " |  \n",
      " |  real\n",
      " |      the real part of a complex number\n",
      "\n"
     ]
    }
   ],
   "source": [
    "help(float)"
   ]
  },
  {
   "cell_type": "markdown",
   "id": "f6663d50",
   "metadata": {},
   "source": [
    "# 10. input()"
   ]
  },
  {
   "cell_type": "markdown",
   "id": "90cf7e8e",
   "metadata": {},
   "source": [
    " Used to take inputs from users"
   ]
  },
  {
   "cell_type": "code",
   "execution_count": 2,
   "id": "716e3cbc",
   "metadata": {},
   "outputs": [
    {
     "name": "stdout",
     "output_type": "stream",
     "text": [
      "enter your nameSagar\n",
      "Hi Sagar\n"
     ]
    }
   ],
   "source": [
    "x=input(\"enter your name\")\n",
    "print(\"Hi\",x)"
   ]
  },
  {
   "cell_type": "code",
   "execution_count": 3,
   "id": "551d3259",
   "metadata": {},
   "outputs": [
    {
     "name": "stdout",
     "output_type": "stream",
     "text": [
      "enter your age24\n",
      "your age is  24\n"
     ]
    }
   ],
   "source": [
    "x=input(\"enter your age\")\n",
    "print(\"your age is \",x)"
   ]
  },
  {
   "cell_type": "code",
   "execution_count": 1,
   "id": "079fe4ae",
   "metadata": {},
   "outputs": [
    {
     "name": "stdout",
     "output_type": "stream",
     "text": [
      "enter your nameSagar\n",
      "enter your age24\n",
      "your name is Sagar and age is 24\n"
     ]
    }
   ],
   "source": [
    "x=input(\"enter your name\")\n",
    "y=input(\"enter your age\")\n",
    "print(\"your name is\",x,\"and age is\",y)"
   ]
  },
  {
   "cell_type": "markdown",
   "id": "dd902db9",
   "metadata": {},
   "source": [
    "* Write a program to calculate the percentage of the student in the subjects Maths,Science,Social,Englisg and Hindi.ask the user to give the input"
   ]
  },
  {
   "cell_type": "code",
   "execution_count": 5,
   "id": "b1878115",
   "metadata": {},
   "outputs": [
    {
     "name": "stdout",
     "output_type": "stream",
     "text": [
      "Enter name of the StudentSagar\n",
      "Enter Maths marks50\n",
      "Enter Science marks60\n",
      "Enter Social marks67\n",
      "Enter English marks89\n",
      "Enter Hindi marks90\n",
      "Total marks of Sagar is 356 and percentage is 71.2\n"
     ]
    }
   ],
   "source": [
    "name=input(\"Enter name of the Student\")\n",
    "maths_Marks=input(\"Enter Maths marks\")\n",
    "science_Marks=input(\"Enter Science marks\")\n",
    "social_marks=input(\"Enter Social marks\")\n",
    "english_Marks=input(\"Enter English marks\")\n",
    "hindi_marks=input(\"Enter Hindi marks\")\n",
    "total_Marks=int(maths_Marks)+int(science_Marks)+int(social_marks)+int(english_Marks)+int(hindi_marks)\n",
    "percentage=(int(total_Marks)/500)*100\n",
    "print(\"Total marks of\",name,\"is\",total_Marks,\"and percentage is\",percentage)"
   ]
  },
  {
   "cell_type": "markdown",
   "id": "d3860b6a",
   "metadata": {},
   "source": [
    "# 11.format()"
   ]
  },
  {
   "cell_type": "markdown",
   "id": "4485b225",
   "metadata": {},
   "source": [
    "The format() function formates a specified value into a specified format"
   ]
  },
  {
   "cell_type": "markdown",
   "id": "f111067b",
   "metadata": {},
   "source": [
    "Syntax:-\n",
    "format(value,format)"
   ]
  },
  {
   "cell_type": "code",
   "execution_count": 9,
   "id": "13259a4f",
   "metadata": {},
   "outputs": [
    {
     "name": "stdout",
     "output_type": "stream",
     "text": [
      "50.000000%\n"
     ]
    }
   ],
   "source": [
    "x=format(0.5,'%') #COnverts into Percentage\n",
    "print(x)"
   ]
  },
  {
   "cell_type": "code",
   "execution_count": 8,
   "id": "d5f043b2",
   "metadata": {},
   "outputs": [
    {
     "name": "stdout",
     "output_type": "stream",
     "text": [
      "a\n"
     ]
    }
   ],
   "source": [
    "y=format(97,'c') #Converts into characters\n",
    "print(y)"
   ]
  },
  {
   "cell_type": "code",
   "execution_count": 10,
   "id": "aeaac7f2",
   "metadata": {},
   "outputs": [
    {
     "name": "stdout",
     "output_type": "stream",
     "text": [
      "11001\n"
     ]
    }
   ],
   "source": [
    "z=format(25,'b')#Converts into binary\n",
    "print(z)"
   ]
  },
  {
   "cell_type": "code",
   "execution_count": null,
   "id": "55d718b0",
   "metadata": {},
   "outputs": [],
   "source": []
  }
 ],
 "metadata": {
  "kernelspec": {
   "display_name": "Python 3 (ipykernel)",
   "language": "python",
   "name": "python3"
  },
  "language_info": {
   "codemirror_mode": {
    "name": "ipython",
    "version": 3
   },
   "file_extension": ".py",
   "mimetype": "text/x-python",
   "name": "python",
   "nbconvert_exporter": "python",
   "pygments_lexer": "ipython3",
   "version": "3.11.4"
  }
 },
 "nbformat": 4,
 "nbformat_minor": 5
}
