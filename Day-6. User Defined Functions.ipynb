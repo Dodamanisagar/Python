{
 "cells": [
  {
   "cell_type": "markdown",
   "id": "f91e2500",
   "metadata": {},
   "source": [
    "# User Defined Functions:"
   ]
  },
  {
   "cell_type": "markdown",
   "id": "357cecc5",
   "metadata": {},
   "source": [
    "# Function:-"
   ]
  },
  {
   "cell_type": "markdown",
   "id": "7292c11d",
   "metadata": {},
   "source": [
    "- A function is a reusable block of programming statements designed to perform a certain task."
   ]
  },
  {
   "cell_type": "markdown",
   "id": "817a0b0c",
   "metadata": {},
   "source": [
    "# User Defined Function:-"
   ]
  },
  {
   "cell_type": "markdown",
   "id": "8cdfad22",
   "metadata": {},
   "source": [
    "- Functions that we define ourselves to do certain specific task are referred as user-defined functions.\n",
    "- All the functions that are written by user comes under the category of user defined functions."
   ]
  },
  {
   "cell_type": "markdown",
   "id": "53a9ea91",
   "metadata": {},
   "source": [
    "# Advantages of user-defined functions:-\n"
   ]
  },
  {
   "cell_type": "markdown",
   "id": "dc72c6c5",
   "metadata": {},
   "source": [
    "- User-defined functions help to decompose a large program into small segments which makes program easy to understand,maintain and debug.\n",
    "\n",
    "- If repeated code occurs in a program, Functions can be used to include those codes and execute when needed by calling that function."
   ]
  },
  {
   "cell_type": "markdown",
   "id": "413f3e7e",
   "metadata": {},
   "source": [
    "# Creating a Function:-\n"
   ]
  },
  {
   "cell_type": "markdown",
   "id": "f2f9ffd6",
   "metadata": {},
   "source": [
    "- In Python a function is defined using the def keyword:\n"
   ]
  },
  {
   "cell_type": "code",
   "execution_count": 6,
   "id": "7faf6481",
   "metadata": {},
   "outputs": [],
   "source": [
    "def my_function(): #creating user defined function\n",
    "    print(\"Hello from a function\")"
   ]
  },
  {
   "cell_type": "code",
   "execution_count": 7,
   "id": "206fb744",
   "metadata": {},
   "outputs": [
    {
     "name": "stdout",
     "output_type": "stream",
     "text": [
      "Hello from a function\n"
     ]
    }
   ],
   "source": [
    "my_function() # calling user defined function"
   ]
  },
  {
   "cell_type": "raw",
   "id": "eeac63e0",
   "metadata": {},
   "source": [
    "Write a program to print student name, marks in the subjects maths,science and social along with school details like name, address, phone number email etc"
   ]
  },
  {
   "cell_type": "code",
   "execution_count": 2,
   "id": "063d3bb9",
   "metadata": {},
   "outputs": [
    {
     "name": "stdout",
     "output_type": "stream",
     "text": [
      "Enter Name of thr Student Sagar\n",
      "Enter the marks of Maths 89\n",
      "Enter the marks of Science 90\n",
      "Enter the marks of Social 89\n",
      "------------------------------------------------\n",
      "Details of the school:-\n",
      "school Name: Delhi Public School\n",
      "Address: Bangalore Karnataka\n",
      "Phone:1234156789\n",
      "email address: dps@gmail.com\n",
      "\n",
      "\n",
      "Enter Name of thr Student Ram\n",
      "Enter the marks of Maths 70\n",
      "Enter the marks of Science 90\n",
      "Enter the marks of Social 80\n",
      "------------------------------------------------\n",
      "Details of the school:-\n",
      "school Name: Delhi Public School\n",
      "Address: Bangalore Karnataka\n",
      "Phone:1234156789\n",
      "email address: dps@gmail.com\n",
      "\n",
      "\n",
      "Enter Name of thr Student Sham\n",
      "Enter the marks of Maths 69\n",
      "Enter the marks of Science 57\n",
      "Enter the marks of Social 8\n",
      "------------------------------------------------\n",
      "Details of the school:-\n",
      "school Name: Delhi Public School\n",
      "Address: Bangalore Karnataka\n",
      "Phone:1234156789\n",
      "email address: dps@gmail.com\n",
      "\n",
      "\n",
      "Enter Name of thr Student Bhim\n",
      "Enter the marks of Maths 90\n",
      "Enter the marks of Science 89\n",
      "Enter the marks of Social 7\n",
      "------------------------------------------------\n",
      "Details of the school:-\n",
      "school Name: Delhi Public School\n",
      "Address: Bangalore Karnataka\n",
      "Phone:1234156789\n",
      "email address: dps@gmail.com\n",
      "\n",
      "\n"
     ]
    }
   ],
   "source": [
    "\"\"\"Function to print details of the school\"\"\"\n",
    "def schoolAddress():\n",
    "    print(\"Details of the school:-\")\n",
    "    print(\"school Name: Delhi Public School\")\n",
    "    print(\"Address: Bangalore Karnataka\")\n",
    "    print(\"Phone:1234156789\")\n",
    "    print(\"email address: dps@gmail.com\")\n",
    "    \n",
    "\"\"\"Taking 4 Students details\"\"\"\n",
    "for i in range(4):\n",
    "    a=input(\"Enter Name of thr Student \")\n",
    "    b=int(input(\"Enter the marks of Maths \"))\n",
    "    c=int(input(\"Enter the marks of Science \"))\n",
    "    d=int(input(\"Enter the marks of Social \"))\n",
    "    print(\"------------------------------------------------\")\n",
    "    schoolAddress()\n",
    "    print(\"\\n\")"
   ]
  },
  {
   "cell_type": "markdown",
   "id": "8ef4fe93",
   "metadata": {},
   "source": [
    "# Arguments:-"
   ]
  },
  {
   "cell_type": "markdown",
   "id": "9c43fcb8",
   "metadata": {},
   "source": [
    "- Information can be passed into functions as arguments.\n",
    "- Arguments are specified after the function name, inside the parentheses. You can add as many arguments as you want, just separate them with a comma."
   ]
  },
  {
   "cell_type": "code",
   "execution_count": 7,
   "id": "0f8f7ebb",
   "metadata": {},
   "outputs": [
    {
     "name": "stdout",
     "output_type": "stream",
     "text": [
      "Swati Sharma\n",
      "Raj Sharma\n",
      "Suraj Sharma\n"
     ]
    }
   ],
   "source": [
    "def completeName(initialName):\n",
    "    print(initialName+\" Sharma\")\n",
    "\n",
    "completeName(\"Swati\")\n",
    "completeName(\"Raj\")\n",
    "completeName(\"Suraj\")"
   ]
  },
  {
   "cell_type": "markdown",
   "id": "24a92e8d",
   "metadata": {},
   "source": [
    "# Number Of Arguments:"
   ]
  },
  {
   "cell_type": "code",
   "execution_count": 8,
   "id": "f39bec3d",
   "metadata": {},
   "outputs": [
    {
     "name": "stdout",
     "output_type": "stream",
     "text": [
      "Sagar Dodamani\n"
     ]
    }
   ],
   "source": [
    "def completeName(initialName,lastName):\n",
    "    print(initialName+\" \"+lastName)\n",
    "\n",
    "completeName(\"Sagar\",\"Dodamani\")\n"
   ]
  },
  {
   "cell_type": "markdown",
   "id": "8c75a6cd",
   "metadata": {},
   "source": [
    "Write a python function to check whether a number falls within a given Range"
   ]
  },
  {
   "cell_type": "code",
   "execution_count": 13,
   "id": "d770d422",
   "metadata": {},
   "outputs": [
    {
     "name": "stdout",
     "output_type": "stream",
     "text": [
      "5 Is in the range of 2 and 10\n"
     ]
    }
   ],
   "source": [
    "\"\"\"python function to check whether a number falls within a given Range\"\"\"\n",
    "def checkRange(n):\n",
    "    if n in range(2,10):\n",
    "        print(str(n)+ \" Is in the range of 2 and 10\")\n",
    "    else:\n",
    "        print(str(n)+\" is not in Range of 2 and 10 \")\n",
    "\n",
    "#calling Function        \n",
    "checkRange(5)"
   ]
  },
  {
   "cell_type": "markdown",
   "id": "81446177",
   "metadata": {},
   "source": [
    "Write a function to check whethe given number is even or odd"
   ]
  },
  {
   "cell_type": "code",
   "execution_count": 19,
   "id": "5bd11ebd",
   "metadata": {},
   "outputs": [
    {
     "name": "stdout",
     "output_type": "stream",
     "text": [
      "2 is Even Number\n"
     ]
    }
   ],
   "source": [
    "\"\"\"Write a function to check whethe given number is even or odd\"\"\"\n",
    "def evenOdd(n):\n",
    "    if (n%2==0):\n",
    "        print(str(n)+\" is Even Number\")\n",
    "    else:\n",
    "        print(str(n)+\" is Odd Number\")\n",
    " \n",
    "# calling Function \n",
    "evenOdd(2)\n",
    "        "
   ]
  },
  {
   "cell_type": "markdown",
   "id": "0ee4013f",
   "metadata": {},
   "source": [
    "# Default Arguments:-"
   ]
  },
  {
   "cell_type": "markdown",
   "id": "b48a0c4e",
   "metadata": {},
   "source": [
    "- A default argument is a parameter that assumes a default value if a value is not provided in the function call for that argument. \n",
    "- The following example illustrates Default arguments.\n",
    "- default argument must be the last argument in the function"
   ]
  },
  {
   "cell_type": "code",
   "execution_count": 25,
   "id": "c5b60c04",
   "metadata": {},
   "outputs": [
    {
     "name": "stdout",
     "output_type": "stream",
     "text": [
      "x=  30\n",
      "y=  80\n",
      "z=  50\n"
     ]
    }
   ],
   "source": [
    "# Python Program to demonstrate default arguments\n",
    "def myFun(x,y,z=50):\n",
    "    print(\"x= \",x)\n",
    "    print(\"y= \",y)\n",
    "    print(\"z= \",z)\n",
    "    \n",
    "    \n",
    "#Calling Function\n",
    "myFun(30,80)"
   ]
  },
  {
   "cell_type": "code",
   "execution_count": null,
   "id": "d2009037",
   "metadata": {},
   "outputs": [],
   "source": [
    "# Write a program to calculate the electricity bill of 3 customers\n",
    "if 500 unit= pay Rs 5 for each unit\n",
    "if 700 unit= pay Rs 10 for each unit\n",
    "if 1000 unit= pay Rs 15 for each unit\n",
    "if more then 1000 unit= pay Rs 20 each unit\n",
    "also mention a last date of paying bill and fine after the due date"
   ]
  },
  {
   "cell_type": "code",
   "execution_count": 38,
   "id": "6bf906a1",
   "metadata": {},
   "outputs": [
    {
     "name": "stdout",
     "output_type": "stream",
     "text": [
      "Enter the name of the CustomerSagar\n",
      "Enter the Units of electricity consumed200\n",
      "Your bill is 200*5=1000\n",
      "\n",
      "If not paid!!. Last date of paying bill is jan 27\n",
      "After due Date you need to pay fine Rs 300\n",
      "Pay your bill soon\n",
      "------------------------------------------------\n",
      "Enter the name of the Customerram\n",
      "Enter the Units of electricity consumed560\n",
      "Your bill is 560*10=5600\n",
      "\n",
      "If not paid!!. Last date of paying bill is jan 27\n",
      "After due Date you need to pay fine Rs 300\n",
      "Pay your bill soon\n",
      "------------------------------------------------\n",
      "Enter the name of the Customersuraj\n",
      "Enter the Units of electricity consumed1200\n",
      "Your bill is 1200*20=24000\n",
      "\n",
      "If not paid!!. Last date of paying bill is jan 27\n",
      "After due Date you need to pay fine Rs 300\n",
      "Pay your bill soon\n",
      "------------------------------------------------\n"
     ]
    }
   ],
   "source": [
    "# unitPaymant Function\n",
    "def unitPaymant(n):\n",
    "    if n<=500:\n",
    "        print(\"Your bill is \"+str(n)+\"*5\"+\"=\"+str(n*5))\n",
    "    elif n>500 and n<=700:\n",
    "        print(\"Your bill is \"+str(n)+\"*10\"+\"=\"+str(n*10))\n",
    "    elif n>700 and n<=1000:\n",
    "        print(\"Your bill is \"+str(n)+\"*15\"+\"=\"+str(n*15))\n",
    "    elif n>1000:\n",
    "        print(\"Your bill is \"+str(n)+\"*20\"+\"=\"+str(n*20))\n",
    " \n",
    "# Notification Function\n",
    "def Notification():\n",
    "    print(\"If not paid!!. Last date of paying bill is jan 27\")\n",
    "    print(\"After due Date you need to pay fine Rs 300\")\n",
    "    print(\"Pay your bill soon\")\n",
    "    \n",
    "# For Loop For 3 customers\n",
    "for n in range(3):\n",
    "    name=input(\"Enter the name of the Customer\")\n",
    "    units=int(input(\"Enter the Units of electricity consumed\"))\n",
    "    unitPaymant(units)\n",
    "    print()\n",
    "    Notification()\n",
    "    print(\"------------------------------------------------\") "
   ]
  },
  {
   "cell_type": "code",
   "execution_count": null,
   "id": "17782410",
   "metadata": {},
   "outputs": [],
   "source": []
  }
 ],
 "metadata": {
  "kernelspec": {
   "display_name": "Python 3 (ipykernel)",
   "language": "python",
   "name": "python3"
  },
  "language_info": {
   "codemirror_mode": {
    "name": "ipython",
    "version": 3
   },
   "file_extension": ".py",
   "mimetype": "text/x-python",
   "name": "python",
   "nbconvert_exporter": "python",
   "pygments_lexer": "ipython3",
   "version": "3.11.4"
  }
 },
 "nbformat": 4,
 "nbformat_minor": 5
}
