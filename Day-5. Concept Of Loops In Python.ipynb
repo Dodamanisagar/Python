{
 "cells": [
  {
   "cell_type": "markdown",
   "id": "e3caa9e2",
   "metadata": {},
   "source": [
    "# 3) Loops/Iterative Statements in Pythin:-"
   ]
  },
  {
   "cell_type": "markdown",
   "id": "9e6ccc67",
   "metadata": {},
   "source": [
    "- In computer programming, loops are used to repeat a block of code. For example, if we want to show a message 100 times, then we can use a loop. A loop statement allows us to execut a statement or group of statements multiple times."
   ]
  },
  {
   "cell_type": "markdown",
   "id": "7765df56",
   "metadata": {},
   "source": [
    "# 1. for loop"
   ]
  },
  {
   "cell_type": "markdown",
   "id": "e21ee59b",
   "metadata": {},
   "source": [
    "- If we know how many times the loop iterate then we have to use for loop.\n",
    "- In Python, the for loop is used to run a block of code for a certain number of times. \n",
    "- It is used to iterate over any sequences such as list, tuple, string, etc....."
   ]
  },
  {
   "cell_type": "markdown",
   "id": "0c37957e",
   "metadata": {},
   "source": [
    "# Looping through List"
   ]
  },
  {
   "cell_type": "code",
   "execution_count": 2,
   "id": "58038471",
   "metadata": {},
   "outputs": [
    {
     "name": "stdout",
     "output_type": "stream",
     "text": [
      "Mango\n",
      "Banana\n",
      "Orange\n"
     ]
    }
   ],
   "source": [
    "fruits=[\"Mango\",\"Banana\",\"Orange\"] #List\n",
    "for x in fruits:\n",
    "    print(x)"
   ]
  },
  {
   "cell_type": "markdown",
   "id": "cc7cfb13",
   "metadata": {},
   "source": [
    "# Looping through String"
   ]
  },
  {
   "cell_type": "code",
   "execution_count": 11,
   "id": "7c766f98",
   "metadata": {},
   "outputs": [
    {
     "name": "stdout",
     "output_type": "stream",
     "text": [
      "B\n",
      "a\n",
      "n\n",
      "a\n",
      "n\n",
      "a\n"
     ]
    }
   ],
   "source": [
    "for x in \"Banana\":\n",
    "    print(x)"
   ]
  },
  {
   "cell_type": "markdown",
   "id": "975de1e2",
   "metadata": {},
   "source": [
    "# Range in For Loop:"
   ]
  },
  {
   "cell_type": "code",
   "execution_count": 6,
   "id": "7009715e",
   "metadata": {},
   "outputs": [
    {
     "name": "stdout",
     "output_type": "stream",
     "text": [
      "0\n",
      "1\n",
      "2\n",
      "3\n",
      "4\n",
      "5\n",
      "6\n",
      "7\n",
      "8\n",
      "9\n"
     ]
    }
   ],
   "source": [
    "for x in range(10): #Default range always starts with 0\n",
    "    print(x)"
   ]
  },
  {
   "cell_type": "code",
   "execution_count": 35,
   "id": "66f0dac0",
   "metadata": {},
   "outputs": [
    {
     "name": "stdout",
     "output_type": "stream",
     "text": [
      "2\n",
      "3\n",
      "4\n",
      "5\n",
      "6\n",
      "7\n",
      "8\n",
      "9\n"
     ]
    }
   ],
   "source": [
    "#Modified range initial value where range is in between including 2 and excluding 10\n",
    "for x in range(2,10): \n",
    "    print(x)"
   ]
  },
  {
   "cell_type": "markdown",
   "id": "cfbaeaed",
   "metadata": {},
   "source": [
    "# Else in For Loop:"
   ]
  },
  {
   "cell_type": "code",
   "execution_count": 12,
   "id": "ccd10477",
   "metadata": {},
   "outputs": [
    {
     "name": "stdout",
     "output_type": "stream",
     "text": [
      "0\n",
      "1\n",
      "2\n",
      "3\n",
      "4\n",
      "5\n",
      "Finished\n"
     ]
    }
   ],
   "source": [
    "for x in range(6):\n",
    "    print(x)\n",
    "else:\n",
    "    print(\"Finished\")"
   ]
  },
  {
   "cell_type": "code",
   "execution_count": 13,
   "id": "53eeef88",
   "metadata": {},
   "outputs": [
    {
     "name": "stdout",
     "output_type": "stream",
     "text": [
      "1\n",
      "4\n",
      "9\n",
      "16\n",
      "25\n",
      "36\n",
      "49\n",
      "64\n",
      "81\n"
     ]
    }
   ],
   "source": [
    "\"\"\"Write a Program to print the square of the number till 10\"\"\"\n",
    "for x in range(1,10):\n",
    "    print(x**2)"
   ]
  },
  {
   "cell_type": "code",
   "execution_count": 18,
   "id": "10679b2d",
   "metadata": {},
   "outputs": [
    {
     "name": "stdout",
     "output_type": "stream",
     "text": [
      "2\n",
      "3\n",
      "4\n",
      "5\n",
      "6\n",
      "7\n",
      "8\n",
      "9\n",
      "10\n",
      "[1, 4, 9, 16, 25, 36, 49, 64, 81]\n"
     ]
    }
   ],
   "source": [
    "# or using list\n",
    "listA=[]\n",
    "for x in range(1,10):\n",
    "    print(x+1)\n",
    "    listA.append(x**2)\n",
    "print(listA)"
   ]
  },
  {
   "cell_type": "code",
   "execution_count": 26,
   "id": "585a7ece",
   "metadata": {},
   "outputs": [
    {
     "name": "stdout",
     "output_type": "stream",
     "text": [
      "list of positive values  [12, 24, 36, 48]\n",
      "list of Negative values  [-12, -24, -36, -48]\n"
     ]
    }
   ],
   "source": [
    "\"\"\"Write a program to separate positive and negative integers from the list\"\"\"\n",
    "listValues=[12,24,36,48,-12,-24,-36,-48]\n",
    "positiveValues=[]\n",
    "negativeValues=[]\n",
    "for x in range(len(listValues)):\n",
    "    if listValues[x]>=0:\n",
    "        positiveValues.append(listValues[x])\n",
    "    else:\n",
    "        negativeValues.append(listValues[x])\n",
    "print(\"list of positive values \",positiveValues)\n",
    "print(\"list of Negative values \",negativeValues)      "
   ]
  },
  {
   "cell_type": "markdown",
   "id": "65e223c6",
   "metadata": {},
   "source": [
    "# break Statement:"
   ]
  },
  {
   "cell_type": "markdown",
   "id": "b4637482",
   "metadata": {},
   "source": [
    "We can use the break statement with the for loop to terminate the loop when a certain condition satisfied"
   ]
  },
  {
   "cell_type": "code",
   "execution_count": 31,
   "id": "4b88f40c",
   "metadata": {},
   "outputs": [
    {
     "name": "stdout",
     "output_type": "stream",
     "text": [
      "1\n",
      "2\n"
     ]
    }
   ],
   "source": [
    "for i in range(1,5):\n",
    "    if i==3:\n",
    "        break\n",
    "    print(i)"
   ]
  },
  {
   "cell_type": "markdown",
   "id": "e7a675db",
   "metadata": {},
   "source": [
    "# Continue Statement:"
   ]
  },
  {
   "cell_type": "markdown",
   "id": "d9df7bd6",
   "metadata": {},
   "source": [
    "The continue statement is used to skip the current iteration of the loop and the control flow of the\n",
    "program goes to the next iteration."
   ]
  },
  {
   "cell_type": "code",
   "execution_count": 33,
   "id": "159543b2",
   "metadata": {},
   "outputs": [
    {
     "name": "stdout",
     "output_type": "stream",
     "text": [
      "1\n",
      "2\n",
      "4\n",
      "5\n"
     ]
    }
   ],
   "source": [
    "for i in range(1,6):\n",
    "    if i==3:\n",
    "        continue\n",
    "    print(i)"
   ]
  },
  {
   "cell_type": "markdown",
   "id": "3cf540cc",
   "metadata": {},
   "source": [
    "# 2. while loop"
   ]
  },
  {
   "cell_type": "markdown",
   "id": "7be5c262",
   "metadata": {},
   "source": [
    "- In python, a while loop is used to execute a block of statements repeatedly until a given condition is satisfied. And when the condition becomes false, the line immediately after the loop in the program is executed."
   ]
  },
  {
   "cell_type": "raw",
   "id": "5c074de8",
   "metadata": {},
   "source": [
    "Write a program to display numbers from 1 to 5"
   ]
  },
  {
   "cell_type": "code",
   "execution_count": 1,
   "id": "9132f6ae",
   "metadata": {},
   "outputs": [
    {
     "name": "stdout",
     "output_type": "stream",
     "text": [
      "1\n",
      "2\n",
      "3\n",
      "4\n",
      "5\n"
     ]
    }
   ],
   "source": [
    "i=1\n",
    "n=5\n",
    "while i<=n:\n",
    "    print(i)\n",
    "    i=i+1"
   ]
  },
  {
   "cell_type": "raw",
   "id": "784db212",
   "metadata": {},
   "source": [
    "Write a program to get value from user and print its multiplication table till 10"
   ]
  },
  {
   "cell_type": "code",
   "execution_count": 3,
   "id": "9bbb4100",
   "metadata": {},
   "outputs": [
    {
     "name": "stdout",
     "output_type": "stream",
     "text": [
      "Enter a value5\n",
      "multiplication table of  5  is:-\n",
      "5\n",
      "10\n",
      "15\n",
      "20\n",
      "25\n",
      "30\n",
      "35\n",
      "40\n",
      "45\n",
      "50\n"
     ]
    }
   ],
   "source": [
    "num=int(input(\"Enter a value \"))\n",
    "print(\"multiplication table of \",num,\" is:-\")\n",
    "i=1\n",
    "while i<=10:\n",
    "    print(i*num)\n",
    "    i=i+1"
   ]
  },
  {
   "cell_type": "markdown",
   "id": "06ca6e70",
   "metadata": {},
   "source": [
    "# Infinite while loop"
   ]
  },
  {
   "cell_type": "markdown",
   "id": "09882e02",
   "metadata": {},
   "source": [
    "If Condition dont match then infinite loop will occure."
   ]
  },
  {
   "cell_type": "code",
   "execution_count": null,
   "id": "45369e5c",
   "metadata": {},
   "outputs": [],
   "source": [
    "age=25\n",
    "while age>18:\n",
    "    print('you can vote')"
   ]
  },
  {
   "cell_type": "raw",
   "id": "e9277a5b",
   "metadata": {},
   "source": [
    "Write a program to print 3 times Hello Students using while loop"
   ]
  },
  {
   "cell_type": "code",
   "execution_count": 4,
   "id": "cdfd90cf",
   "metadata": {},
   "outputs": [
    {
     "name": "stdout",
     "output_type": "stream",
     "text": [
      "Hello Students\n",
      "Hello Students\n",
      "Hello Students\n"
     ]
    }
   ],
   "source": [
    "count=0\n",
    "while count<3:\n",
    "    print(\"Hello Students\")\n",
    "    count=count+1\n",
    "    "
   ]
  },
  {
   "cell_type": "markdown",
   "id": "a5381cd0",
   "metadata": {},
   "source": [
    "# Using else statement with while loop in Python"
   ]
  },
  {
   "cell_type": "code",
   "execution_count": 6,
   "id": "6463960f",
   "metadata": {},
   "outputs": [
    {
     "name": "stdout",
     "output_type": "stream",
     "text": [
      "Hello Students\n",
      "Hello Students\n",
      "Hello Students\n",
      "In else block\n"
     ]
    }
   ],
   "source": [
    "#Python program to illustrate else statement with while loop\n",
    "count=0\n",
    "while count<3:\n",
    "    count=count+1\n",
    "    print(\"Hello Students\")\n",
    "else:\n",
    "    print(\"In else block\")"
   ]
  },
  {
   "cell_type": "raw",
   "id": "24f9b557",
   "metadata": {},
   "source": [
    "Write a program to find exponent of a numbers upto the numbers which is entered by user"
   ]
  },
  {
   "cell_type": "code",
   "execution_count": 1,
   "id": "76d56229",
   "metadata": {},
   "outputs": [
    {
     "name": "stdout",
     "output_type": "stream",
     "text": [
      "Enter a number upto which you want to find exponents 5\n",
      "1\n",
      "4\n",
      "9\n",
      "16\n",
      "25\n"
     ]
    }
   ],
   "source": [
    "num=int(input(\"Enter a number upto which you want to find exponents \"))\n",
    "i=1\n",
    "while i<=num:\n",
    "    print(i**2)\n",
    "    i=i+1\n",
    "    "
   ]
  },
  {
   "cell_type": "code",
   "execution_count": null,
   "id": "6bc2a393",
   "metadata": {},
   "outputs": [],
   "source": []
  }
 ],
 "metadata": {
  "kernelspec": {
   "display_name": "Python 3 (ipykernel)",
   "language": "python",
   "name": "python3"
  },
  "language_info": {
   "codemirror_mode": {
    "name": "ipython",
    "version": 3
   },
   "file_extension": ".py",
   "mimetype": "text/x-python",
   "name": "python",
   "nbconvert_exporter": "python",
   "pygments_lexer": "ipython3",
   "version": "3.11.4"
  }
 },
 "nbformat": 4,
 "nbformat_minor": 5
}
